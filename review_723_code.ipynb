{
  "nbformat": 4,
  "nbformat_minor": 0,
  "metadata": {
    "colab": {
      "name": "review_723_code.ipynb",
      "provenance": [],
      "collapsed_sections": []
    },
    "kernelspec": {
      "name": "python3",
      "display_name": "Python 3"
    },
    "language_info": {
      "name": "python"
    }
  },
  "cells": [
    {
      "cell_type": "code",
      "execution_count": 1,
      "metadata": {
        "id": "Ik_qaXfWRPwc"
      },
      "outputs": [],
      "source": [
        "import numpy as np\n",
        "import pandas as pd\n",
        "import seaborn as sns\n",
        "import matplotlib.pyplot as plt\n",
        "import nltk\n",
        "from sklearn.feature_extraction.text import CountVectorizer\n",
        "from sklearn.feature_extraction.text import TfidfVectorizer\n",
        "from sklearn.preprocessing import LabelBinarizer\n",
        "from nltk.corpus import stopwords\n",
        "from nltk.stem.porter import PorterStemmer\n",
        "from wordcloud import WordCloud,STOPWORDS\n",
        "from nltk.stem import WordNetLemmatizer\n",
        "from nltk.tokenize import word_tokenize,sent_tokenize\n",
        "from bs4 import BeautifulSoup\n",
        "import spacy\n",
        "import re,string,unicodedata\n",
        "from nltk.tokenize.toktok import ToktokTokenizer\n",
        "from nltk.stem import LancasterStemmer,WordNetLemmatizer\n",
        "from sklearn.linear_model import LogisticRegression,SGDClassifier\n",
        "from sklearn.naive_bayes import MultinomialNB\n",
        "from sklearn.svm import SVC\n",
        "from textblob import TextBlob\n",
        "from textblob import Word\n",
        "from sklearn.metrics import classification_report,confusion_matrix,accuracy_score\n",
        "import warnings\n",
        "warnings.filterwarnings('ignore')"
      ]
    },
    {
      "cell_type": "code",
      "source": [
        "df = pd.read_csv('/content/IMDB Dataset.csv',engine=\"python\",error_bad_lines=False)\n",
        "df"
      ],
      "metadata": {
        "colab": {
          "base_uri": "https://localhost:8080/",
          "height": 423
        },
        "id": "ITt8xXIJXHJf",
        "outputId": "a104c9a3-6276-407a-9ccc-afe304d12926"
      },
      "execution_count": 22,
      "outputs": [
        {
          "output_type": "execute_result",
          "data": {
            "text/html": [
              "\n",
              "  <div id=\"df-27789896-1e27-4bcc-ad42-fb3e9e03cc0d\">\n",
              "    <div class=\"colab-df-container\">\n",
              "      <div>\n",
              "<style scoped>\n",
              "    .dataframe tbody tr th:only-of-type {\n",
              "        vertical-align: middle;\n",
              "    }\n",
              "\n",
              "    .dataframe tbody tr th {\n",
              "        vertical-align: top;\n",
              "    }\n",
              "\n",
              "    .dataframe thead th {\n",
              "        text-align: right;\n",
              "    }\n",
              "</style>\n",
              "<table border=\"1\" class=\"dataframe\">\n",
              "  <thead>\n",
              "    <tr style=\"text-align: right;\">\n",
              "      <th></th>\n",
              "      <th>review</th>\n",
              "      <th>sentiment</th>\n",
              "    </tr>\n",
              "  </thead>\n",
              "  <tbody>\n",
              "    <tr>\n",
              "      <th>0</th>\n",
              "      <td>One of the other reviewers has mentioned that ...</td>\n",
              "      <td>positive</td>\n",
              "    </tr>\n",
              "    <tr>\n",
              "      <th>1</th>\n",
              "      <td>A wonderful little production. &lt;br /&gt;&lt;br /&gt;The...</td>\n",
              "      <td>positive</td>\n",
              "    </tr>\n",
              "    <tr>\n",
              "      <th>2</th>\n",
              "      <td>I thought this was a wonderful way to spend ti...</td>\n",
              "      <td>positive</td>\n",
              "    </tr>\n",
              "    <tr>\n",
              "      <th>3</th>\n",
              "      <td>Basically there's a family where a little boy ...</td>\n",
              "      <td>negative</td>\n",
              "    </tr>\n",
              "    <tr>\n",
              "      <th>4</th>\n",
              "      <td>Petter Mattei's \"Love in the Time of Money\" is...</td>\n",
              "      <td>positive</td>\n",
              "    </tr>\n",
              "    <tr>\n",
              "      <th>...</th>\n",
              "      <td>...</td>\n",
              "      <td>...</td>\n",
              "    </tr>\n",
              "    <tr>\n",
              "      <th>49995</th>\n",
              "      <td>I thought this movie did a down right good job...</td>\n",
              "      <td>positive</td>\n",
              "    </tr>\n",
              "    <tr>\n",
              "      <th>49996</th>\n",
              "      <td>Bad plot, bad dialogue, bad acting, idiotic di...</td>\n",
              "      <td>negative</td>\n",
              "    </tr>\n",
              "    <tr>\n",
              "      <th>49997</th>\n",
              "      <td>I am a Catholic taught in parochial elementary...</td>\n",
              "      <td>negative</td>\n",
              "    </tr>\n",
              "    <tr>\n",
              "      <th>49998</th>\n",
              "      <td>I'm going to have to disagree with the previou...</td>\n",
              "      <td>negative</td>\n",
              "    </tr>\n",
              "    <tr>\n",
              "      <th>49999</th>\n",
              "      <td>No one expects the Star Trek movies to be high...</td>\n",
              "      <td>negative</td>\n",
              "    </tr>\n",
              "  </tbody>\n",
              "</table>\n",
              "<p>50000 rows × 2 columns</p>\n",
              "</div>\n",
              "      <button class=\"colab-df-convert\" onclick=\"convertToInteractive('df-27789896-1e27-4bcc-ad42-fb3e9e03cc0d')\"\n",
              "              title=\"Convert this dataframe to an interactive table.\"\n",
              "              style=\"display:none;\">\n",
              "        \n",
              "  <svg xmlns=\"http://www.w3.org/2000/svg\" height=\"24px\"viewBox=\"0 0 24 24\"\n",
              "       width=\"24px\">\n",
              "    <path d=\"M0 0h24v24H0V0z\" fill=\"none\"/>\n",
              "    <path d=\"M18.56 5.44l.94 2.06.94-2.06 2.06-.94-2.06-.94-.94-2.06-.94 2.06-2.06.94zm-11 1L8.5 8.5l.94-2.06 2.06-.94-2.06-.94L8.5 2.5l-.94 2.06-2.06.94zm10 10l.94 2.06.94-2.06 2.06-.94-2.06-.94-.94-2.06-.94 2.06-2.06.94z\"/><path d=\"M17.41 7.96l-1.37-1.37c-.4-.4-.92-.59-1.43-.59-.52 0-1.04.2-1.43.59L10.3 9.45l-7.72 7.72c-.78.78-.78 2.05 0 2.83L4 21.41c.39.39.9.59 1.41.59.51 0 1.02-.2 1.41-.59l7.78-7.78 2.81-2.81c.8-.78.8-2.07 0-2.86zM5.41 20L4 18.59l7.72-7.72 1.47 1.35L5.41 20z\"/>\n",
              "  </svg>\n",
              "      </button>\n",
              "      \n",
              "  <style>\n",
              "    .colab-df-container {\n",
              "      display:flex;\n",
              "      flex-wrap:wrap;\n",
              "      gap: 12px;\n",
              "    }\n",
              "\n",
              "    .colab-df-convert {\n",
              "      background-color: #E8F0FE;\n",
              "      border: none;\n",
              "      border-radius: 50%;\n",
              "      cursor: pointer;\n",
              "      display: none;\n",
              "      fill: #1967D2;\n",
              "      height: 32px;\n",
              "      padding: 0 0 0 0;\n",
              "      width: 32px;\n",
              "    }\n",
              "\n",
              "    .colab-df-convert:hover {\n",
              "      background-color: #E2EBFA;\n",
              "      box-shadow: 0px 1px 2px rgba(60, 64, 67, 0.3), 0px 1px 3px 1px rgba(60, 64, 67, 0.15);\n",
              "      fill: #174EA6;\n",
              "    }\n",
              "\n",
              "    [theme=dark] .colab-df-convert {\n",
              "      background-color: #3B4455;\n",
              "      fill: #D2E3FC;\n",
              "    }\n",
              "\n",
              "    [theme=dark] .colab-df-convert:hover {\n",
              "      background-color: #434B5C;\n",
              "      box-shadow: 0px 1px 3px 1px rgba(0, 0, 0, 0.15);\n",
              "      filter: drop-shadow(0px 1px 2px rgba(0, 0, 0, 0.3));\n",
              "      fill: #FFFFFF;\n",
              "    }\n",
              "  </style>\n",
              "\n",
              "      <script>\n",
              "        const buttonEl =\n",
              "          document.querySelector('#df-27789896-1e27-4bcc-ad42-fb3e9e03cc0d button.colab-df-convert');\n",
              "        buttonEl.style.display =\n",
              "          google.colab.kernel.accessAllowed ? 'block' : 'none';\n",
              "\n",
              "        async function convertToInteractive(key) {\n",
              "          const element = document.querySelector('#df-27789896-1e27-4bcc-ad42-fb3e9e03cc0d');\n",
              "          const dataTable =\n",
              "            await google.colab.kernel.invokeFunction('convertToInteractive',\n",
              "                                                     [key], {});\n",
              "          if (!dataTable) return;\n",
              "\n",
              "          const docLinkHtml = 'Like what you see? Visit the ' +\n",
              "            '<a target=\"_blank\" href=https://colab.research.google.com/notebooks/data_table.ipynb>data table notebook</a>'\n",
              "            + ' to learn more about interactive tables.';\n",
              "          element.innerHTML = '';\n",
              "          dataTable['output_type'] = 'display_data';\n",
              "          await google.colab.output.renderOutput(dataTable, element);\n",
              "          const docLink = document.createElement('div');\n",
              "          docLink.innerHTML = docLinkHtml;\n",
              "          element.appendChild(docLink);\n",
              "        }\n",
              "      </script>\n",
              "    </div>\n",
              "  </div>\n",
              "  "
            ],
            "text/plain": [
              "                                                  review sentiment\n",
              "0      One of the other reviewers has mentioned that ...  positive\n",
              "1      A wonderful little production. <br /><br />The...  positive\n",
              "2      I thought this was a wonderful way to spend ti...  positive\n",
              "3      Basically there's a family where a little boy ...  negative\n",
              "4      Petter Mattei's \"Love in the Time of Money\" is...  positive\n",
              "...                                                  ...       ...\n",
              "49995  I thought this movie did a down right good job...  positive\n",
              "49996  Bad plot, bad dialogue, bad acting, idiotic di...  negative\n",
              "49997  I am a Catholic taught in parochial elementary...  negative\n",
              "49998  I'm going to have to disagree with the previou...  negative\n",
              "49999  No one expects the Star Trek movies to be high...  negative\n",
              "\n",
              "[50000 rows x 2 columns]"
            ]
          },
          "metadata": {},
          "execution_count": 22
        }
      ]
    },
    {
      "cell_type": "code",
      "source": [
        "df.describe()"
      ],
      "metadata": {
        "colab": {
          "base_uri": "https://localhost:8080/",
          "height": 175
        },
        "id": "YkDXsanjr02-",
        "outputId": "071c879b-63b0-4926-8cfe-df3d546db987"
      },
      "execution_count": null,
      "outputs": [
        {
          "output_type": "execute_result",
          "data": {
            "text/html": [
              "\n",
              "  <div id=\"df-3a40daf4-2303-44b3-9af6-d442c339a6e3\">\n",
              "    <div class=\"colab-df-container\">\n",
              "      <div>\n",
              "<style scoped>\n",
              "    .dataframe tbody tr th:only-of-type {\n",
              "        vertical-align: middle;\n",
              "    }\n",
              "\n",
              "    .dataframe tbody tr th {\n",
              "        vertical-align: top;\n",
              "    }\n",
              "\n",
              "    .dataframe thead th {\n",
              "        text-align: right;\n",
              "    }\n",
              "</style>\n",
              "<table border=\"1\" class=\"dataframe\">\n",
              "  <thead>\n",
              "    <tr style=\"text-align: right;\">\n",
              "      <th></th>\n",
              "      <th>review</th>\n",
              "      <th>sentiment</th>\n",
              "    </tr>\n",
              "  </thead>\n",
              "  <tbody>\n",
              "    <tr>\n",
              "      <th>count</th>\n",
              "      <td>50000</td>\n",
              "      <td>50000</td>\n",
              "    </tr>\n",
              "    <tr>\n",
              "      <th>unique</th>\n",
              "      <td>49582</td>\n",
              "      <td>2</td>\n",
              "    </tr>\n",
              "    <tr>\n",
              "      <th>top</th>\n",
              "      <td>Loved today's show!!! It was a variety and not...</td>\n",
              "      <td>negative</td>\n",
              "    </tr>\n",
              "    <tr>\n",
              "      <th>freq</th>\n",
              "      <td>5</td>\n",
              "      <td>25000</td>\n",
              "    </tr>\n",
              "  </tbody>\n",
              "</table>\n",
              "</div>\n",
              "      <button class=\"colab-df-convert\" onclick=\"convertToInteractive('df-3a40daf4-2303-44b3-9af6-d442c339a6e3')\"\n",
              "              title=\"Convert this dataframe to an interactive table.\"\n",
              "              style=\"display:none;\">\n",
              "        \n",
              "  <svg xmlns=\"http://www.w3.org/2000/svg\" height=\"24px\"viewBox=\"0 0 24 24\"\n",
              "       width=\"24px\">\n",
              "    <path d=\"M0 0h24v24H0V0z\" fill=\"none\"/>\n",
              "    <path d=\"M18.56 5.44l.94 2.06.94-2.06 2.06-.94-2.06-.94-.94-2.06-.94 2.06-2.06.94zm-11 1L8.5 8.5l.94-2.06 2.06-.94-2.06-.94L8.5 2.5l-.94 2.06-2.06.94zm10 10l.94 2.06.94-2.06 2.06-.94-2.06-.94-.94-2.06-.94 2.06-2.06.94z\"/><path d=\"M17.41 7.96l-1.37-1.37c-.4-.4-.92-.59-1.43-.59-.52 0-1.04.2-1.43.59L10.3 9.45l-7.72 7.72c-.78.78-.78 2.05 0 2.83L4 21.41c.39.39.9.59 1.41.59.51 0 1.02-.2 1.41-.59l7.78-7.78 2.81-2.81c.8-.78.8-2.07 0-2.86zM5.41 20L4 18.59l7.72-7.72 1.47 1.35L5.41 20z\"/>\n",
              "  </svg>\n",
              "      </button>\n",
              "      \n",
              "  <style>\n",
              "    .colab-df-container {\n",
              "      display:flex;\n",
              "      flex-wrap:wrap;\n",
              "      gap: 12px;\n",
              "    }\n",
              "\n",
              "    .colab-df-convert {\n",
              "      background-color: #E8F0FE;\n",
              "      border: none;\n",
              "      border-radius: 50%;\n",
              "      cursor: pointer;\n",
              "      display: none;\n",
              "      fill: #1967D2;\n",
              "      height: 32px;\n",
              "      padding: 0 0 0 0;\n",
              "      width: 32px;\n",
              "    }\n",
              "\n",
              "    .colab-df-convert:hover {\n",
              "      background-color: #E2EBFA;\n",
              "      box-shadow: 0px 1px 2px rgba(60, 64, 67, 0.3), 0px 1px 3px 1px rgba(60, 64, 67, 0.15);\n",
              "      fill: #174EA6;\n",
              "    }\n",
              "\n",
              "    [theme=dark] .colab-df-convert {\n",
              "      background-color: #3B4455;\n",
              "      fill: #D2E3FC;\n",
              "    }\n",
              "\n",
              "    [theme=dark] .colab-df-convert:hover {\n",
              "      background-color: #434B5C;\n",
              "      box-shadow: 0px 1px 3px 1px rgba(0, 0, 0, 0.15);\n",
              "      filter: drop-shadow(0px 1px 2px rgba(0, 0, 0, 0.3));\n",
              "      fill: #FFFFFF;\n",
              "    }\n",
              "  </style>\n",
              "\n",
              "      <script>\n",
              "        const buttonEl =\n",
              "          document.querySelector('#df-3a40daf4-2303-44b3-9af6-d442c339a6e3 button.colab-df-convert');\n",
              "        buttonEl.style.display =\n",
              "          google.colab.kernel.accessAllowed ? 'block' : 'none';\n",
              "\n",
              "        async function convertToInteractive(key) {\n",
              "          const element = document.querySelector('#df-3a40daf4-2303-44b3-9af6-d442c339a6e3');\n",
              "          const dataTable =\n",
              "            await google.colab.kernel.invokeFunction('convertToInteractive',\n",
              "                                                     [key], {});\n",
              "          if (!dataTable) return;\n",
              "\n",
              "          const docLinkHtml = 'Like what you see? Visit the ' +\n",
              "            '<a target=\"_blank\" href=https://colab.research.google.com/notebooks/data_table.ipynb>data table notebook</a>'\n",
              "            + ' to learn more about interactive tables.';\n",
              "          element.innerHTML = '';\n",
              "          dataTable['output_type'] = 'display_data';\n",
              "          await google.colab.output.renderOutput(dataTable, element);\n",
              "          const docLink = document.createElement('div');\n",
              "          docLink.innerHTML = docLinkHtml;\n",
              "          element.appendChild(docLink);\n",
              "        }\n",
              "      </script>\n",
              "    </div>\n",
              "  </div>\n",
              "  "
            ],
            "text/plain": [
              "                                                   review sentiment\n",
              "count                                               50000     50000\n",
              "unique                                              49582         2\n",
              "top     Loved today's show!!! It was a variety and not...  negative\n",
              "freq                                                    5     25000"
            ]
          },
          "metadata": {},
          "execution_count": 4
        }
      ]
    },
    {
      "cell_type": "markdown",
      "metadata": {
        "_uuid": "90da29c3b79f46f41d7391a2a116065b616d0fac",
        "id": "fgqSyny-c9k6"
      },
      "source": [
        "**Text normalization**"
      ]
    },
    {
      "cell_type": "code",
      "source": [
        "#Tokenization of text\n",
        "tokenizer=ToktokTokenizer()\n",
        "#Setting English stopwords\n",
        "nltk.download('stopwords')\n",
        "stopword_list=nltk.corpus.stopwords.words('english')\n",
        "\n",
        "#Removing the html strips\n",
        "def strip_html(text):\n",
        "    soup = BeautifulSoup(text, \"html.parser\")\n",
        "    return soup.get_text()\n",
        "\n",
        "#Removing the square brackets\n",
        "def remove_between_square_brackets(text):\n",
        "    return re.sub('\\[[^]]*\\]', '', text)\n",
        "\n",
        "#Removing the noisy text\n",
        "def denoise_text(text):\n",
        "    text = strip_html(text)\n",
        "    text = remove_between_square_brackets(text)\n",
        "    return text\n",
        "#Apply function on review column\n",
        "df['review']=df['review'].apply(denoise_text)"
      ],
      "metadata": {
        "colab": {
          "base_uri": "https://localhost:8080/"
        },
        "id": "nEjHZ2xrr2pi",
        "outputId": "280de2da-43d9-4f2f-cfc3-385415b62af6"
      },
      "execution_count": 23,
      "outputs": [
        {
          "output_type": "stream",
          "name": "stdout",
          "text": [
            "[nltk_data] Downloading package stopwords to /root/nltk_data...\n",
            "[nltk_data]   Package stopwords is already up-to-date!\n"
          ]
        }
      ]
    },
    {
      "cell_type": "markdown",
      "metadata": {
        "_uuid": "88117b74761d1047924d6d70f76642faa0e706ac",
        "id": "TN2dIwTxc9k8"
      },
      "source": [
        "**Removing special characters**"
      ]
    },
    {
      "cell_type": "code",
      "source": [
        "#function for removing special characters\n",
        "def remove_special_characters(text, remove_digits=True):\n",
        "    pattern=r'[^a-zA-z0-9\\s]'\n",
        "    text=re.sub(pattern,'',text)\n",
        "    return text\n",
        "#function on review column\n",
        "df['review']=df['review'].apply(remove_special_characters)"
      ],
      "metadata": {
        "id": "BaPGW1YQr29n"
      },
      "execution_count": 24,
      "outputs": []
    },
    {
      "cell_type": "code",
      "source": [
        "#Stemming the text\n",
        "def simple_stemmer(text):\n",
        "    ps=nltk.porter.PorterStemmer()\n",
        "    text= ' '.join([ps.stem(word) for word in text.split()])\n",
        "    return text\n",
        "#Apply function on review column\n",
        "df['review']=df['review'].apply(simple_stemmer)"
      ],
      "metadata": {
        "id": "d2JWZH4-r3L7"
      },
      "execution_count": null,
      "outputs": []
    },
    {
      "cell_type": "code",
      "source": [
        "#set stopwords to english\n",
        "stop=set(stopwords.words('english'))\n",
        "print(stop)\n",
        "\n",
        "#removing the stopwords\n",
        "def remove_stopwords(text, is_lower_case=False):\n",
        "    tokens = tokenizer.tokenize(text)\n",
        "    tokens = [token.strip() for token in tokens]\n",
        "    if is_lower_case:\n",
        "        filtered_tokens = [token for token in tokens if token not in stopword_list]\n",
        "    else:\n",
        "        filtered_tokens = [token for token in tokens if token.lower() not in stopword_list]\n",
        "    filtered_text = ' '.join(filtered_tokens)    \n",
        "    return filtered_text\n",
        "#Apply function on review column\n",
        "df['review']=df['review'].apply(remove_stopwords)"
      ],
      "metadata": {
        "colab": {
          "base_uri": "https://localhost:8080/"
        },
        "id": "7It_WSItr3Vp",
        "outputId": "bf721e71-4000-4b26-97bc-3c956249d015"
      },
      "execution_count": 25,
      "outputs": [
        {
          "output_type": "stream",
          "name": "stdout",
          "text": [
            "{'so', 'before', 'weren', 've', 'ourselves', 'won', 's', \"you're\", 'against', 'ain', 'while', \"should've\", 'mustn', 'few', 'or', 'didn', 'ours', 'then', 'aren', 'under', 'them', 'here', 'own', \"you'll\", 'now', 'is', 'both', 'couldn', 're', 'does', 'how', 'all', 'only', \"hasn't\", \"hadn't\", 'it', 'what', 'between', 'with', 'did', 't', 'there', 'their', 'd', 'be', 'about', 'do', 'why', \"haven't\", 'because', 'has', 'doing', 'that', 'she', 'we', 'which', 'hasn', 'and', 'those', 'were', 'y', 'as', 'the', 'each', 'shouldn', 'he', 'over', 'you', 'same', 'yours', 'doesn', \"won't\", 'again', 'hadn', 'our', 'yourself', \"it's\", \"mightn't\", 'can', \"doesn't\", 'wouldn', 'too', 'below', 'have', 'at', 'its', 'they', 'don', 'am', 'isn', 'll', 'further', 'ma', \"needn't\", 'than', 'whom', \"shouldn't\", 'myself', 'not', 'most', \"don't\", 'him', \"didn't\", 'out', 'my', 'for', \"couldn't\", 'until', 'themselves', \"weren't\", \"aren't\", 'such', \"you've\", 'down', 'himself', 'any', 'to', 'on', 'theirs', 'other', 'having', \"mustn't\", 'into', 'nor', 'mightn', 'hers', 'herself', 'had', 'through', 'no', 'being', 'yourselves', \"isn't\", \"wasn't\", 'me', 'just', 'by', 'off', 'very', 'your', 'up', 'of', 'his', \"you'd\", 'wasn', 'are', \"wouldn't\", 'haven', 'will', 'above', 'i', 'but', 'an', 'who', 'her', 'more', \"shan't\", 'should', 'shan', \"that'll\", 'was', 'itself', 'where', 'this', \"she's\", 'a', 'if', 'been', 'in', 'once', 'from', 'when', 'some', 'during', 'after', 'm', 'needn', 'these', 'o'}\n"
          ]
        }
      ]
    },
    {
      "cell_type": "code",
      "source": [
        "#Count vectorizer for bag of words\n",
        "y=np.array(df.sentiment.values)\n",
        "cv=CountVectorizer(max_features=5000)\n",
        "#transformed train reviews\n",
        "x=cv.fit_transform(df.review).toarray()\n",
        "print(x.shape,y.shape)\n",
        "\n",
        "\n",
        "#doc2vec\n",
        "\n"
      ],
      "metadata": {
        "id": "F6nDamipr3jF",
        "colab": {
          "base_uri": "https://localhost:8080/"
        },
        "outputId": "f5b4e0c5-8c4c-49fe-9341-3492f66e747b"
      },
      "execution_count": 26,
      "outputs": [
        {
          "output_type": "stream",
          "name": "stdout",
          "text": [
            "(50000, 5000) (50000,)\n"
          ]
        }
      ]
    },
    {
      "cell_type": "code",
      "source": [
        "word_frequency = pd.Series(' '.join(df['review']).split()).value_counts()\n",
        "print(word_frequency)"
      ],
      "metadata": {
        "colab": {
          "base_uri": "https://localhost:8080/"
        },
        "id": "Djxka4rEr3ot",
        "outputId": "42938662-2e3f-424a-e1f0-90af3bc69f18"
      },
      "execution_count": null,
      "outputs": [
        {
          "output_type": "stream",
          "name": "stdout",
          "text": [
            "movie               82310\n",
            "film                73514\n",
            "one                 46301\n",
            "like                37483\n",
            "good                27403\n",
            "                    ...  \n",
            "histerically            1\n",
            "popstarplayed           1\n",
            "TVAside                 1\n",
            "murdersAlthough         1\n",
            "BrotherMeanwhile        1\n",
            "Length: 256143, dtype: int64\n"
          ]
        }
      ]
    },
    {
      "cell_type": "code",
      "source": [
        "from PIL import Image\n",
        "from wordcloud import WordCloud\n",
        "corpus = list(df['review'])\n",
        "\n",
        "wordcloud = WordCloud(background_color='white', max_words=200, max_font_size=50, random_state=42).generate(str(corpus))\n",
        "\n",
        "fig = plt.figure(1)\n",
        "plt.imshow(wordcloud)\n",
        "plt.axis('off')\n",
        "plt.show()"
      ],
      "metadata": {
        "id": "FQ8Dnc6dr3te",
        "colab": {
          "base_uri": "https://localhost:8080/",
          "height": 197
        },
        "outputId": "396bf37b-a394-4801-dbda-3f3338f38f08"
      },
      "execution_count": null,
      "outputs": [
        {
          "output_type": "display_data",
          "data": {
            "image/png": "[encoded data removed]",
            "text/plain": [
              "<Figure size 432x288 with 1 Axes>"
            ]
          },
          "metadata": {
            "needs_background": "light"
          }
        }
      ]
    },
    {
      "cell_type": "code",
      "source": [
        "from sklearn.feature_extraction.text import CountVectorizer\n",
        "from sklearn.feature_extraction.text import TfidfVectorizer\n",
        "from sklearn.model_selection import train_test_split\n",
        "from sklearn.metrics import accuracy_score, classification_report\n",
        "from sklearn.metrics import confusion_matrix\n",
        "\n",
        "xtrain, xtest, ytrain, ytest=train_test_split(x, y, test_size=0.3, random_state=123)\n",
        "print(xtrain.shape,xtest.shape, ytrain.shape,ytest.shape)"
      ],
      "metadata": {
        "colab": {
          "base_uri": "https://localhost:8080/"
        },
        "id": "muv1iP14k9QS",
        "outputId": "61ef0f9f-4abd-4dfe-d85b-d37d6b908596"
      },
      "execution_count": 7,
      "outputs": [
        {
          "output_type": "stream",
          "name": "stdout",
          "text": [
            "(538, 5000) (231, 5000) (538,) (231,)\n"
          ]
        }
      ]
    },
    {
      "cell_type": "markdown",
      "metadata": {
        "_uuid": "803e92b25faa738b10928a91de72d177d8dddf85",
        "id": "PdFr3_Isc9lD"
      },
      "source": [
        "**random forest** **technique**"
      ]
    },
    {
      "cell_type": "code",
      "source": [
        "from sklearn.ensemble import RandomForestClassifier\n",
        "from sklearn.naive_bayes import MultinomialNB\n",
        "sv=SVC()                                    #SupportVectorClassifier\n",
        "rf=RandomForestClassifier()                 #RandomForestClassifier\n"
      ],
      "metadata": {
        "id": "ox_MPYvreXvv"
      },
      "execution_count": null,
      "outputs": []
    },
    {
      "cell_type": "code",
      "source": [
        "\n",
        "rf.fit(xtrain, ytrain)"
      ],
      "metadata": {
        "colab": {
          "base_uri": "https://localhost:8080/"
        },
        "id": "Kl268LLUehZx",
        "outputId": "03429dbb-fe26-41c7-d2ec-e95c209ae3dc"
      },
      "execution_count": null,
      "outputs": [
        {
          "output_type": "execute_result",
          "data": {
            "text/plain": [
              "RandomForestClassifier()"
            ]
          },
          "metadata": {},
          "execution_count": 13
        }
      ]
    },
    {
      "cell_type": "code",
      "source": [
        "rf.fit(xtrain, ytrain)\n",
        "predict_rf=rf.predict(xtest)\n",
        "rf_score=accuracy_score(ytest,predict_rf)\n",
        "print(\"rf_score :\",rf_score)\n",
        "print(\"--Accuracy-->\", accuracy_score(ytest,predict_rf))\n",
        "print(\"--ConfuMat-->\\n\",\"\\n\",confusion_matrix(ytest,predict_rf))\n",
        "print(\"\\n--ClassRep-->\\n\",\"\\n\", classification_report(ytest,predict_rf))"
      ],
      "metadata": {
        "id": "3Uj_hBQOek6q",
        "colab": {
          "base_uri": "https://localhost:8080/"
        },
        "outputId": "99a1c885-d30a-4595-d852-d53e61b87d20"
      },
      "execution_count": null,
      "outputs": [
        {
          "output_type": "stream",
          "name": "stdout",
          "text": [
            "rf_score : 0.8458666666666667\n",
            "--Accuracy--> 0.8458666666666667\n",
            "--ConfuMat-->\n",
            " \n",
            " [[6359 1110]\n",
            " [1202 6329]]\n",
            "\n",
            "--ClassRep-->\n",
            " \n",
            "               precision    recall  f1-score   support\n",
            "\n",
            "    negative       0.84      0.85      0.85      7469\n",
            "    positive       0.85      0.84      0.85      7531\n",
            "\n",
            "    accuracy                           0.85     15000\n",
            "   macro avg       0.85      0.85      0.85     15000\n",
            "weighted avg       0.85      0.85      0.85     15000\n",
            "\n"
          ]
        }
      ]
    },
    {
      "cell_type": "code",
      "source": [
        "x_train, x_test, y_train, y_test=train_test_split(x, y, test_size=0.3, random_state=29)\n",
        "print(x_train.shape,x_test.shape, y_train.shape,ytest.shape)"
      ],
      "metadata": {
        "colab": {
          "base_uri": "https://localhost:8080/"
        },
        "id": "dXgHeaNRFrbK",
        "outputId": "fa1a8ec7-7a7b-4042-c248-09bfab73aea2"
      },
      "execution_count": 8,
      "outputs": [
        {
          "output_type": "stream",
          "name": "stdout",
          "text": [
            "(538, 5000) (231, 5000) (538,) (231,)\n"
          ]
        }
      ]
    },
    {
      "cell_type": "code",
      "source": [
        "                              \n",
        "rf=RandomForestClassifier()                 #RandomForestClassifier\n",
        "\n",
        "rf.fit(x_train, y_train)\n",
        "predict_rf=rf.predict(x_test)\n",
        "rf_score=accuracy_score(y_test,predict_rf)\n",
        "print(\"rf_score :\",rf_score)\n",
        "print(\"--Accuracy-->\", accuracy_score(y_test,predict_rf))\n",
        "print(\"--ConfuMat-->\\n\",\"\\n\",confusion_matrix(y_test,predict_rf))\n",
        "print(\"\\n--ClassRep-->\\n\",\"\\n\", classification_report(y_test,predict_rf))\n"
      ],
      "metadata": {
        "colab": {
          "base_uri": "https://localhost:8080/"
        },
        "id": "yep2WjqBHw3w",
        "outputId": "2d9580e5-26a9-4429-8142-24408136c922"
      },
      "execution_count": null,
      "outputs": [
        {
          "output_type": "stream",
          "name": "stdout",
          "text": [
            "svm_score : 0.84\n",
            "--Accuracy--> 0.84\n",
            "--ConfuMat-->\n",
            " \n",
            " [[6369 1156]\n",
            " [1244 6231]]\n",
            "\n",
            "--ClassRep-->\n",
            " \n",
            "               precision    recall  f1-score   support\n",
            "\n",
            "    negative       0.84      0.85      0.84      7525\n",
            "    positive       0.84      0.83      0.84      7475\n",
            "\n",
            "    accuracy                           0.84     15000\n",
            "   macro avg       0.84      0.84      0.84     15000\n",
            "weighted avg       0.84      0.84      0.84     15000\n",
            "\n"
          ]
        }
      ]
    },
    {
      "cell_type": "code",
      "source": [
        "x_train, x_test, y_train, y_test=train_test_split(x, y, test_size=0.3, random_state=1)\n",
        "print(x_train.shape,x_test.shape, y_train.shape,y_test.shape)"
      ],
      "metadata": {
        "id": "nunRAvSSHxVl"
      },
      "execution_count": null,
      "outputs": []
    },
    {
      "cell_type": "code",
      "source": [
        "                             \n",
        "rf=RandomForestClassifier()                 #RandomForestClassifier\n",
        "\n",
        "rf.fit(x_train, y_train)\n",
        "predict_rf=rf.predict(x_test)\n",
        "rf_score=accuracy_score(y_test,predict_rf)\n",
        "print(\"rf_score :\",rf_score)\n",
        "print(\"--Accuracy-->\", accuracy_score(y_test,predict_rf))\n",
        "print(\"--ConfuMat-->\\n\",\"\\n\",confusion_matrix(y_test,predict_rf))\n",
        "print(\"\\n--ClassRep-->\\n\",\"\\n\", classification_report(y_test,predict_rf))"
      ],
      "metadata": {
        "colab": {
          "base_uri": "https://localhost:8080/"
        },
        "id": "3ZTWvVnvHxnR",
        "outputId": "46d05943-4467-4185-e906-1e6af433623f"
      },
      "execution_count": null,
      "outputs": [
        {
          "output_type": "stream",
          "name": "stdout",
          "text": [
            "svm_score : 0.8473333333333334\n",
            "--Accuracy--> 0.8473333333333334\n",
            "--ConfuMat-->\n",
            " \n",
            " [[6419 1102]\n",
            " [1188 6291]]\n",
            "\n",
            "--ClassRep-->\n",
            " \n",
            "               precision    recall  f1-score   support\n",
            "\n",
            "    negative       0.84      0.85      0.85      7521\n",
            "    positive       0.85      0.84      0.85      7479\n",
            "\n",
            "    accuracy                           0.85     15000\n",
            "   macro avg       0.85      0.85      0.85     15000\n",
            "weighted avg       0.85      0.85      0.85     15000\n",
            "\n"
          ]
        }
      ]
    },
    {
      "cell_type": "code",
      "source": [
        "x_train, x_test, y_train, y_test=train_test_split(x, y, test_size=0.3, random_state=10)\n",
        "rf.fit(x_train, y_train)\n",
        "predict_rf=rf.predict(x_test)\n",
        "rf_score=accuracy_score(y_test,predict_rf)\n",
        "print(\"svm_score :\",rf_score)\n",
        "print(\"--Accuracy-->\", accuracy_score(y_test,predict_rf))\n",
        "print(\"--ConfuMat-->\\n\",\"\\n\",confusion_matrix(y_test,predict_rf))\n",
        "print(\"\\n--ClassRep-->\\n\",\"\\n\", classification_report(y_test,predict_rf))"
      ],
      "metadata": {
        "colab": {
          "base_uri": "https://localhost:8080/"
        },
        "id": "g44WgGmFV06x",
        "outputId": "a86694e1-b5a8-4812-8567-63cc3a988672"
      },
      "execution_count": null,
      "outputs": [
        {
          "output_type": "stream",
          "name": "stdout",
          "text": [
            "svm_score : 0.8408666666666667\n",
            "--Accuracy--> 0.8408666666666667\n",
            "--ConfuMat-->\n",
            " \n",
            " [[6413 1182]\n",
            " [1205 6200]]\n",
            "\n",
            "--ClassRep-->\n",
            " \n",
            "               precision    recall  f1-score   support\n",
            "\n",
            "    negative       0.84      0.84      0.84      7595\n",
            "    positive       0.84      0.84      0.84      7405\n",
            "\n",
            "    accuracy                           0.84     15000\n",
            "   macro avg       0.84      0.84      0.84     15000\n",
            "weighted avg       0.84      0.84      0.84     15000\n",
            "\n"
          ]
        }
      ]
    },
    {
      "cell_type": "code",
      "source": [
        "x_train, x_test, y_train, y_test=train_test_split(x, y, test_size=0.3, random_state=20)\n",
        "rf.fit(x_train, y_train)\n",
        "predict_rf=rf.predict(x_test)\n",
        "rf_score=accuracy_score(y_test,predict_rf)\n",
        "print(\"rf_score :\",rf_score)\n",
        "print(\"--Accuracy-->\", accuracy_score(y_test,predict_rf))\n",
        "print(\"--ConfuMat-->\\n\",\"\\n\",confusion_matrix(y_test,predict_rf))\n",
        "print(\"\\n--ClassRep-->\\n\",\"\\n\", classification_report(y_test,predict_rf))"
      ],
      "metadata": {
        "colab": {
          "base_uri": "https://localhost:8080/"
        },
        "id": "XkSivAL-V1HD",
        "outputId": "35e2a014-aa20-43bb-c53c-4862de27253e"
      },
      "execution_count": null,
      "outputs": [
        {
          "output_type": "stream",
          "name": "stdout",
          "text": [
            "svm_score : 0.8468\n",
            "--Accuracy--> 0.8468\n",
            "--ConfuMat-->\n",
            " \n",
            " [[6417 1129]\n",
            " [1169 6285]]\n",
            "\n",
            "--ClassRep-->\n",
            " \n",
            "               precision    recall  f1-score   support\n",
            "\n",
            "    negative       0.85      0.85      0.85      7546\n",
            "    positive       0.85      0.84      0.85      7454\n",
            "\n",
            "    accuracy                           0.85     15000\n",
            "   macro avg       0.85      0.85      0.85     15000\n",
            "weighted avg       0.85      0.85      0.85     15000\n",
            "\n"
          ]
        }
      ]
    },
    {
      "cell_type": "code",
      "source": [
        "x_train, x_test, y_train, y_test=train_test_split(x, y, test_size=0.3, random_state=30)\n",
        "rf.fit(x_train, y_train)\n",
        "predict_rf=rf.predict(x_test)\n",
        "rf_score=accuracy_score(y_test,predict_rf)\n",
        "print(\"rf_score :\",rf_score)\n",
        "print(\"--Accuracy-->\", accuracy_score(y_test,predict_rf))\n",
        "print(\"--ConfuMat-->\\n\",\"\\n\",confusion_matrix(y_test,predict_rf))\n",
        "print(\"\\n--ClassRep-->\\n\",\"\\n\", classification_report(y_test,predict_rf))"
      ],
      "metadata": {
        "colab": {
          "base_uri": "https://localhost:8080/"
        },
        "id": "4ZwiCzS3V1KF",
        "outputId": "bd74d7e3-9133-4f7b-beed-e93cd6d819cf"
      },
      "execution_count": null,
      "outputs": [
        {
          "output_type": "stream",
          "name": "stdout",
          "text": [
            "svm_score : 0.8450666666666666\n",
            "--Accuracy--> 0.8450666666666666\n",
            "--ConfuMat-->\n",
            " \n",
            " [[6309 1165]\n",
            " [1159 6367]]\n",
            "\n",
            "--ClassRep-->\n",
            " \n",
            "               precision    recall  f1-score   support\n",
            "\n",
            "    negative       0.84      0.84      0.84      7474\n",
            "    positive       0.85      0.85      0.85      7526\n",
            "\n",
            "    accuracy                           0.85     15000\n",
            "   macro avg       0.85      0.85      0.85     15000\n",
            "weighted avg       0.85      0.85      0.85     15000\n",
            "\n"
          ]
        }
      ]
    },
    {
      "cell_type": "code",
      "source": [
        ""
      ],
      "metadata": {
        "id": "anQR4RAbV1ND"
      },
      "execution_count": null,
      "outputs": []
    },
    {
      "cell_type": "code",
      "source": [
        ""
      ],
      "metadata": {
        "id": "OiV4uhMeV1QO"
      },
      "execution_count": null,
      "outputs": []
    },
    {
      "cell_type": "markdown",
      "metadata": {
        "id": "iulYgcGNc9lE"
      },
      "source": [
        "**Linear regression Modelling the dataset**"
      ]
    },
    {
      "cell_type": "code",
      "source": [
        "#training the model\n",
        "\n",
        "lr=LogisticRegression(penalty='l2',max_iter=500,C=1,random_state=123,solver='lbfgs')\n",
        "#Fitting the model for Bag of words\n",
        "lr_bow=lr.fit(xtrain,ytrain)\n",
        "print(lr_bow)\n"
      ],
      "metadata": {
        "colab": {
          "base_uri": "https://localhost:8080/"
        },
        "id": "SRYENP57r39A",
        "outputId": "eaf2fd68-39ce-4b82-f530-156dd481cc47"
      },
      "execution_count": null,
      "outputs": [
        {
          "output_type": "stream",
          "name": "stdout",
          "text": [
            "LogisticRegression(C=1, max_iter=500, random_state=123)\n"
          ]
        }
      ]
    },
    {
      "cell_type": "markdown",
      "metadata": {
        "_uuid": "07eb6d52eb32469e3be82e90af636d598a7b7c27",
        "id": "ZZOtQlQuc9lF"
      },
      "source": [
        "**Logistic regression model performane on test dataset**"
      ]
    },
    {
      "cell_type": "code",
      "source": [
        "#Predicting the model for bag of words\n",
        "lr_predict=lr.predict(xtest)\n",
        "print(lr_predict)\n"
      ],
      "metadata": {
        "colab": {
          "base_uri": "https://localhost:8080/"
        },
        "id": "RVc4GWd0r4Ak",
        "outputId": "960b68aa-fc60-4049-9ff2-2883c79b416a"
      },
      "execution_count": null,
      "outputs": [
        {
          "output_type": "stream",
          "name": "stdout",
          "text": [
            "['negative' 'positive' 'positive' ... 'negative' 'negative' 'negative']\n"
          ]
        }
      ]
    },
    {
      "cell_type": "code",
      "source": [
        "#Accuracy score for bag of words\n",
        "lr_bow_score=accuracy_score(ytest,lr_predict)\n",
        "print(\"lr_bow_score :\",lr_bow_score)\n"
      ],
      "metadata": {
        "colab": {
          "base_uri": "https://localhost:8080/"
        },
        "id": "eDhF5TZ_r4Ec",
        "outputId": "0dc347c1-de47-4529-c8aa-f7da3ff997d7"
      },
      "execution_count": null,
      "outputs": [
        {
          "output_type": "stream",
          "name": "stdout",
          "text": [
            "lr_bow_score : 0.8691333333333333\n"
          ]
        }
      ]
    },
    {
      "cell_type": "code",
      "source": [
        "#Classification report for bag of words \n",
        "print(\"--Accuracy-->\", accuracy_score(ytest,lr_predict))\n",
        "print(\"--ConfuMat-->\\n\",\"\\n\",confusion_matrix(ytest,lr_predict))\n",
        "print(\"\\n--ClassRep-->\\n\",\"\\n\", classification_report(ytest,lr_predict))"
      ],
      "metadata": {
        "colab": {
          "base_uri": "https://localhost:8080/"
        },
        "id": "tg9FNV-Qr4Hh",
        "outputId": "c1255293-9fa6-440b-9744-7d7dc0f6a424"
      },
      "execution_count": null,
      "outputs": [
        {
          "output_type": "stream",
          "name": "stdout",
          "text": [
            "--Accuracy--> 0.8691333333333333\n",
            "--ConfuMat-->\n",
            " \n",
            " [[6449 1020]\n",
            " [ 943 6588]]\n",
            "\n",
            "--ClassRep-->\n",
            " \n",
            "               precision    recall  f1-score   support\n",
            "\n",
            "    negative       0.87      0.86      0.87      7469\n",
            "    positive       0.87      0.87      0.87      7531\n",
            "\n",
            "    accuracy                           0.87     15000\n",
            "   macro avg       0.87      0.87      0.87     15000\n",
            "weighted avg       0.87      0.87      0.87     15000\n",
            "\n"
          ]
        }
      ]
    },
    {
      "cell_type": "code",
      "source": [
        "#training the model\n",
        "lr=LogisticRegression(penalty='l2',max_iter=500,random_state=29,C=1,solver='lbfgs')\n",
        "#Fitting the model for Bag of words\n",
        "lr_bow=lr.fit(xtrain,ytrain)\n",
        "lr_bow_score=accuracy_score(ytest,lr_predict)\n",
        "print(\"lr_bow_score :\",lr_bow_score)\n",
        "print(\"--Accuracy-->\", accuracy_score(ytest,lr_predict))\n",
        "print(\"--ConfuMat-->\\n\",\"\\n\",confusion_matrix(ytest,lr_predict))\n",
        "print(\"\\n--ClassRep-->\\n\",\"\\n\", classification_report(ytest,lr_predict))\n"
      ],
      "metadata": {
        "colab": {
          "base_uri": "https://localhost:8080/"
        },
        "id": "x1E66VxZJAju",
        "outputId": "b620065e-d945-48d2-fa56-63877c35a477"
      },
      "execution_count": null,
      "outputs": [
        {
          "output_type": "stream",
          "name": "stdout",
          "text": [
            "lr_bow_score : 0.8691333333333333\n",
            "--Accuracy--> 0.8691333333333333\n",
            "--ConfuMat-->\n",
            " \n",
            " [[6449 1020]\n",
            " [ 943 6588]]\n",
            "\n",
            "--ClassRep-->\n",
            " \n",
            "               precision    recall  f1-score   support\n",
            "\n",
            "    negative       0.87      0.86      0.87      7469\n",
            "    positive       0.87      0.87      0.87      7531\n",
            "\n",
            "    accuracy                           0.87     15000\n",
            "   macro avg       0.87      0.87      0.87     15000\n",
            "weighted avg       0.87      0.87      0.87     15000\n",
            "\n"
          ]
        }
      ]
    },
    {
      "cell_type": "code",
      "source": [
        "lr=LogisticRegression(penalty='l1',max_iter=1000,random_state=29,C=4,solver='liblinear')\n",
        "#Fitting the model for Bag of words\n",
        "lr_bow=lr.fit(xtrain,ytrain)\n",
        "lr_bow_score=accuracy_score(ytest,lr_predict)\n",
        "print(\"lr_bow_score :\",lr_bow_score)\n",
        "print(\"--Accuracy-->\", accuracy_score(ytest,lr_predict))\n",
        "print(\"--ConfuMat-->\\n\",\"\\n\",confusion_matrix(ytest,lr_predict))\n",
        "print(\"\\n--ClassRep-->\\n\",\"\\n\", classification_report(ytest,lr_predict))\n"
      ],
      "metadata": {
        "colab": {
          "base_uri": "https://localhost:8080/"
        },
        "id": "zJy6vzJovZJl",
        "outputId": "08625950-bc38-488d-9b8c-12ff0dd99c30"
      },
      "execution_count": null,
      "outputs": [
        {
          "output_type": "stream",
          "name": "stdout",
          "text": [
            "lr_bow_score : 0.8691333333333333\n",
            "--Accuracy--> 0.8691333333333333\n",
            "--ConfuMat-->\n",
            " \n",
            " [[6449 1020]\n",
            " [ 943 6588]]\n",
            "\n",
            "--ClassRep-->\n",
            " \n",
            "               precision    recall  f1-score   support\n",
            "\n",
            "    negative       0.87      0.86      0.87      7469\n",
            "    positive       0.87      0.87      0.87      7531\n",
            "\n",
            "    accuracy                           0.87     15000\n",
            "   macro avg       0.87      0.87      0.87     15000\n",
            "weighted avg       0.87      0.87      0.87     15000\n",
            "\n"
          ]
        }
      ]
    },
    {
      "cell_type": "code",
      "source": [
        "#training the model\n",
        "lr=LogisticRegression(penalty='l2',max_iter=200,random_state=1)\n",
        "#Fitting the model for Bag of words\n",
        "lr_bow=lr.fit(xtrain,ytrain)\n",
        "lr_bow_score=accuracy_score(ytest,lr_predict)\n",
        "print(\"lr_bow_score :\",lr_bow_score)\n",
        "print(\"--Accuracy-->\", accuracy_score(ytest,lr_predict))\n",
        "print(\"--ConfuMat-->\\n\",\"\\n\",confusion_matrix(ytest,lr_predict))\n",
        "print(\"\\n--ClassRep-->\\n\",\"\\n\", classification_report(ytest,lr_predict))"
      ],
      "metadata": {
        "colab": {
          "base_uri": "https://localhost:8080/"
        },
        "id": "dFUozVGlJALk",
        "outputId": "3db4e9aa-183a-490f-dc8e-a50453e4a319"
      },
      "execution_count": null,
      "outputs": [
        {
          "output_type": "stream",
          "name": "stdout",
          "text": [
            "lr_bow_score : 0.8691333333333333\n",
            "--Accuracy--> 0.8691333333333333\n",
            "--ConfuMat-->\n",
            " \n",
            " [[6449 1020]\n",
            " [ 943 6588]]\n",
            "\n",
            "--ClassRep-->\n",
            " \n",
            "               precision    recall  f1-score   support\n",
            "\n",
            "    negative       0.87      0.86      0.87      7469\n",
            "    positive       0.87      0.87      0.87      7531\n",
            "\n",
            "    accuracy                           0.87     15000\n",
            "   macro avg       0.87      0.87      0.87     15000\n",
            "weighted avg       0.87      0.87      0.87     15000\n",
            "\n"
          ]
        }
      ]
    },
    {
      "cell_type": "code",
      "source": [
        "lr=LogisticRegression(penalty='l2',max_iter=200,random_state=10)\n",
        "#Fitting the model for Bag of words\n",
        "lr_bow=lr.fit(xtrain,ytrain)\n",
        "lr_bow_score=accuracy_score(ytest,lr_predict)\n",
        "print(\"lr_bow_score :\",lr_bow_score)\n",
        "print(\"--Accuracy-->\", accuracy_score(ytest,lr_predict))\n",
        "print(\"--ConfuMat-->\\n\",\"\\n\",confusion_matrix(ytest,lr_predict))\n",
        "print(\"\\n--ClassRep-->\\n\",\"\\n\", classification_report(ytest,lr_predict))"
      ],
      "metadata": {
        "colab": {
          "base_uri": "https://localhost:8080/"
        },
        "id": "LBkH0iTBWI_J",
        "outputId": "820ae847-0465-42d1-dc34-7f53bac01105"
      },
      "execution_count": null,
      "outputs": [
        {
          "output_type": "stream",
          "name": "stdout",
          "text": [
            "lr_bow_score : 0.8691333333333333\n",
            "--Accuracy--> 0.8691333333333333\n",
            "--ConfuMat-->\n",
            " \n",
            " [[6449 1020]\n",
            " [ 943 6588]]\n",
            "\n",
            "--ClassRep-->\n",
            " \n",
            "               precision    recall  f1-score   support\n",
            "\n",
            "    negative       0.87      0.86      0.87      7469\n",
            "    positive       0.87      0.87      0.87      7531\n",
            "\n",
            "    accuracy                           0.87     15000\n",
            "   macro avg       0.87      0.87      0.87     15000\n",
            "weighted avg       0.87      0.87      0.87     15000\n",
            "\n"
          ]
        }
      ]
    },
    {
      "cell_type": "code",
      "source": [
        "lr=LogisticRegression(penalty='l2',max_iter=200,random_state=20)\n",
        "#Fitting the model for Bag of words\n",
        "lr_bow=lr.fit(xtrain,ytrain)\n",
        "lr_bow_score=accuracy_score(ytest,lr_predict)\n",
        "print(\"lr_bow_score :\",lr_bow_score)\n",
        "print(\"--Accuracy-->\", accuracy_score(ytest,lr_predict))\n",
        "print(\"--ConfuMat-->\\n\",\"\\n\",confusion_matrix(ytest,lr_predict))\n",
        "print(\"\\n--ClassRep-->\\n\",\"\\n\", classification_report(ytest,lr_predict))"
      ],
      "metadata": {
        "colab": {
          "base_uri": "https://localhost:8080/"
        },
        "id": "SdTbqqTcWJlA",
        "outputId": "e943ac0a-c891-4fb0-bf22-08d3e29fa4b2"
      },
      "execution_count": null,
      "outputs": [
        {
          "output_type": "stream",
          "name": "stdout",
          "text": [
            "lr_bow_score : 0.8691333333333333\n",
            "--Accuracy--> 0.8691333333333333\n",
            "--ConfuMat-->\n",
            " \n",
            " [[6449 1020]\n",
            " [ 943 6588]]\n",
            "\n",
            "--ClassRep-->\n",
            " \n",
            "               precision    recall  f1-score   support\n",
            "\n",
            "    negative       0.87      0.86      0.87      7469\n",
            "    positive       0.87      0.87      0.87      7531\n",
            "\n",
            "    accuracy                           0.87     15000\n",
            "   macro avg       0.87      0.87      0.87     15000\n",
            "weighted avg       0.87      0.87      0.87     15000\n",
            "\n"
          ]
        }
      ]
    },
    {
      "cell_type": "code",
      "source": [
        "lr=LogisticRegression(penalty='l2',max_iter=200,random_state=30)\n",
        "#Fitting the model for Bag of words\n",
        "lr_bow=lr.fit(xtrain,ytrain)\n",
        "lr_bow_score=accuracy_score(ytest,lr_predict)\n",
        "print(\"lr_bow_score :\",lr_bow_score)\n",
        "print(\"--Accuracy-->\", accuracy_score(ytest,lr_predict))\n",
        "print(\"--ConfuMat-->\\n\",\"\\n\",confusion_matrix(ytest,lr_predict))\n",
        "print(\"\\n--ClassRep-->\\n\",\"\\n\", classification_report(ytest,lr_predict))"
      ],
      "metadata": {
        "colab": {
          "base_uri": "https://localhost:8080/"
        },
        "id": "ldmwknBaWJrM",
        "outputId": "8445c84a-cff0-4e5e-cf6d-6048de8c3eb2"
      },
      "execution_count": null,
      "outputs": [
        {
          "output_type": "stream",
          "name": "stdout",
          "text": [
            "lr_bow_score : 0.8691333333333333\n",
            "--Accuracy--> 0.8691333333333333\n",
            "--ConfuMat-->\n",
            " \n",
            " [[6449 1020]\n",
            " [ 943 6588]]\n",
            "\n",
            "--ClassRep-->\n",
            " \n",
            "               precision    recall  f1-score   support\n",
            "\n",
            "    negative       0.87      0.86      0.87      7469\n",
            "    positive       0.87      0.87      0.87      7531\n",
            "\n",
            "    accuracy                           0.87     15000\n",
            "   macro avg       0.87      0.87      0.87     15000\n",
            "weighted avg       0.87      0.87      0.87     15000\n",
            "\n"
          ]
        }
      ]
    },
    {
      "cell_type": "markdown",
      "metadata": {
        "id": "IXQuVU06c9lK"
      },
      "source": [
        "**Multinomial Naive Bayes for bag of words and tfidf features**"
      ]
    },
    {
      "cell_type": "code",
      "source": [
        "#training the model\n",
        "Nb=MultinomialNB()\n",
        "#fitting the svm for bag of words\n",
        "Nb_bow=Nb.fit(xtrain,ytrain)\n",
        "print(Nb_bow)\n"
      ],
      "metadata": {
        "colab": {
          "base_uri": "https://localhost:8080/"
        },
        "id": "VTCPpSGQr4PD",
        "outputId": "8ab7aaa6-80f2-4fea-cf47-04d91de180c5"
      },
      "execution_count": null,
      "outputs": [
        {
          "output_type": "stream",
          "name": "stdout",
          "text": [
            "MultinomialNB()\n"
          ]
        }
      ]
    },
    {
      "cell_type": "code",
      "source": [
        "#Predicting the model for bag of words\n",
        "nb_predict=Nb.predict(xtest)\n",
        "print(nb_predict)"
      ],
      "metadata": {
        "colab": {
          "base_uri": "https://localhost:8080/"
        },
        "id": "lhMw6Qacr4Sf",
        "outputId": "4ffc035a-3af0-491a-8061-6a186898b15b"
      },
      "execution_count": null,
      "outputs": [
        {
          "output_type": "stream",
          "name": "stdout",
          "text": [
            "['negative' 'positive' 'positive' ... 'positive' 'positive' 'negative']\n"
          ]
        }
      ]
    },
    {
      "cell_type": "code",
      "source": [
        "#Accuracy score for bag of words\n",
        "nb_score=accuracy_score(ytest,nb_predict)\n",
        "print(\"nb_score :\",nb_score)"
      ],
      "metadata": {
        "colab": {
          "base_uri": "https://localhost:8080/"
        },
        "id": "EmcU6OCXr4U9",
        "outputId": "9e90b390-b7da-4dc1-c65e-3251359c0569"
      },
      "execution_count": null,
      "outputs": [
        {
          "output_type": "stream",
          "name": "stdout",
          "text": [
            "nb_score : 0.8444666666666667\n"
          ]
        }
      ]
    },
    {
      "cell_type": "code",
      "source": [
        "print(\"--Accuracy-->\", accuracy_score(ytest,nb_predict))\n",
        "print(\"--ConfuMat-->\\n\",\"\\n\",confusion_matrix(ytest,nb_predict))\n",
        "print(\"\\n--ClassRep-->\\n\",\"\\n\", classification_report(ytest,nb_predict))"
      ],
      "metadata": {
        "colab": {
          "base_uri": "https://localhost:8080/"
        },
        "id": "_fMH_-pzwCTk",
        "outputId": "b1e8d6c9-eb22-4acc-c6b7-cc75f2850987"
      },
      "execution_count": null,
      "outputs": [
        {
          "output_type": "stream",
          "name": "stdout",
          "text": [
            "--Accuracy--> 0.8444666666666667\n",
            "--ConfuMat-->\n",
            " \n",
            " [[6330 1139]\n",
            " [1194 6337]]\n",
            "\n",
            "--ClassRep-->\n",
            " \n",
            "               precision    recall  f1-score   support\n",
            "\n",
            "    negative       0.84      0.85      0.84      7469\n",
            "    positive       0.85      0.84      0.84      7531\n",
            "\n",
            "    accuracy                           0.84     15000\n",
            "   macro avg       0.84      0.84      0.84     15000\n",
            "weighted avg       0.84      0.84      0.84     15000\n",
            "\n"
          ]
        }
      ]
    },
    {
      "cell_type": "code",
      "source": [
        "x_train, x_test, y_train, y_test=train_test_split(x, y, test_size=0.3, random_state=29)\n",
        "print(x_train.shape,x_test.shape, y_train.shape,y_test.shape)\n",
        "Nb=MultinomialNB()\n",
        "#fitting the svm for bag of words\n",
        "Nb_bow=Nb.fit(x_train,y_train)\n",
        "nb_predict=Nb.predict(x_test)\n",
        "nb_score=accuracy_score(y_test,nb_predict)\n",
        "print(\"nb_score :\",nb_score)\n",
        "print(\"--Accuracy-->\", accuracy_score(y_test,nb_predict))\n",
        "print(\"--ConfuMat-->\\n\",\"\\n\",confusion_matrix(y_test,nb_predict))\n",
        "print(\"\\n--ClassRep-->\\n\",\"\\n\", classification_report(y_test,nb_predict))\n"
      ],
      "metadata": {
        "colab": {
          "base_uri": "https://localhost:8080/"
        },
        "id": "D1R1VfhvK3vG",
        "outputId": "be008d30-a37a-4e37-d743-a5397eb58131"
      },
      "execution_count": null,
      "outputs": [
        {
          "output_type": "stream",
          "name": "stdout",
          "text": [
            "(35000, 5000) (15000, 5000) (35000,) (15000,)\n",
            "nb_score : 0.8508666666666667\n",
            "--Accuracy--> 0.8508666666666667\n",
            "--ConfuMat-->\n",
            " \n",
            " [[6429 1096]\n",
            " [1141 6334]]\n",
            "\n",
            "--ClassRep-->\n",
            " \n",
            "               precision    recall  f1-score   support\n",
            "\n",
            "    negative       0.85      0.85      0.85      7525\n",
            "    positive       0.85      0.85      0.85      7475\n",
            "\n",
            "    accuracy                           0.85     15000\n",
            "   macro avg       0.85      0.85      0.85     15000\n",
            "weighted avg       0.85      0.85      0.85     15000\n",
            "\n"
          ]
        }
      ]
    },
    {
      "cell_type": "code",
      "source": [
        "x_train, x_test, y_train, y_test=train_test_split(x, y, test_size=0.3, random_state=1)\n",
        "print(x_train.shape,x_test.shape, y_train.shape,y_test.shape)\n",
        "Nb=MultinomialNB()\n",
        "#fitting the svm for bag of words\n",
        "Nb_bow=Nb.fit(x_train,y_train)\n",
        "nb_predict=Nb.predict(x_test)\n",
        "nb_score=accuracy_score(y_test,nb_predict)\n",
        "print(\"nb_score :\",nb_score)\n",
        "print(\"--Accuracy-->\", accuracy_score(y_test,nb_predict))\n",
        "print(\"--ConfuMat-->\\n\",\"\\n\",confusion_matrix(y_test,nb_predict))\n",
        "print(\"\\n--ClassRep-->\\n\",\"\\n\", classification_report(y_test,nb_predict))"
      ],
      "metadata": {
        "colab": {
          "base_uri": "https://localhost:8080/"
        },
        "id": "_-oinxjBK4Ym",
        "outputId": "258efdef-2b14-41cd-d463-450be5b34c92"
      },
      "execution_count": null,
      "outputs": [
        {
          "output_type": "stream",
          "name": "stdout",
          "text": [
            "(35000, 5000) (15000, 5000) (35000,) (15000,)\n",
            "nb_score : 0.8495333333333334\n",
            "--Accuracy--> 0.8495333333333334\n",
            "--ConfuMat-->\n",
            " \n",
            " [[6423 1098]\n",
            " [1159 6320]]\n",
            "\n",
            "--ClassRep-->\n",
            " \n",
            "               precision    recall  f1-score   support\n",
            "\n",
            "    negative       0.85      0.85      0.85      7521\n",
            "    positive       0.85      0.85      0.85      7479\n",
            "\n",
            "    accuracy                           0.85     15000\n",
            "   macro avg       0.85      0.85      0.85     15000\n",
            "weighted avg       0.85      0.85      0.85     15000\n",
            "\n"
          ]
        }
      ]
    },
    {
      "cell_type": "code",
      "source": [
        "x_train, x_test, y_train, y_test=train_test_split(x, y, test_size=0.3, random_state=10)\n",
        "Nb=MultinomialNB()\n",
        "#fitting the svm for bag of words\n",
        "Nb_bow=Nb.fit(x_train,y_train)\n",
        "nb_predict=Nb.predict(x_test)\n",
        "nb_score=accuracy_score(y_test,nb_predict)\n",
        "print(\"nb_score :\",nb_score)\n",
        "print(\"--Accuracy-->\", accuracy_score(y_test,nb_predict))\n",
        "print(\"--ConfuMat-->\\n\",\"\\n\",confusion_matrix(y_test,nb_predict))\n",
        "print(\"\\n--ClassRep-->\\n\",\"\\n\", classification_report(y_test,nb_predict))\n"
      ],
      "metadata": {
        "colab": {
          "base_uri": "https://localhost:8080/"
        },
        "id": "jJHr5YVcLkYj",
        "outputId": "33cc27cb-2733-4ec4-d8e9-188e9a3ffb26"
      },
      "execution_count": null,
      "outputs": [
        {
          "output_type": "stream",
          "name": "stdout",
          "text": [
            "nb_score : 0.8498666666666667\n",
            "--Accuracy--> 0.8498666666666667\n",
            "--ConfuMat-->\n",
            " \n",
            " [[6461 1134]\n",
            " [1118 6287]]\n",
            "\n",
            "--ClassRep-->\n",
            " \n",
            "               precision    recall  f1-score   support\n",
            "\n",
            "    negative       0.85      0.85      0.85      7595\n",
            "    positive       0.85      0.85      0.85      7405\n",
            "\n",
            "    accuracy                           0.85     15000\n",
            "   macro avg       0.85      0.85      0.85     15000\n",
            "weighted avg       0.85      0.85      0.85     15000\n",
            "\n"
          ]
        }
      ]
    },
    {
      "cell_type": "code",
      "source": [
        "x_train, x_test, y_train, y_test=train_test_split(x, y, test_size=0.3, random_state=20)\n",
        "Nb=MultinomialNB()\n",
        "#fitting the svm for bag of words\n",
        "Nb_bow=Nb.fit(x_train,y_train)\n",
        "nb_predict=Nb.predict(x_test)\n",
        "nb_score=accuracy_score(y_test,nb_predict)\n",
        "print(\"nb_score :\",nb_score)\n",
        "print(\"--Accuracy-->\", accuracy_score(y_test,nb_predict))\n",
        "print(\"--ConfuMat-->\\n\",\"\\n\",confusion_matrix(y_test,nb_predict))\n",
        "print(\"\\n--ClassRep-->\\n\",\"\\n\", classification_report(y_test,nb_predict))"
      ],
      "metadata": {
        "colab": {
          "base_uri": "https://localhost:8080/"
        },
        "id": "xLAw19fuL3Zg",
        "outputId": "e18d6f07-3518-43f2-ebfa-2cd0307825a9"
      },
      "execution_count": null,
      "outputs": [
        {
          "output_type": "stream",
          "name": "stdout",
          "text": [
            "nb_score : 0.8476\n",
            "--Accuracy--> 0.8476\n",
            "--ConfuMat-->\n",
            " \n",
            " [[6432 1114]\n",
            " [1172 6282]]\n",
            "\n",
            "--ClassRep-->\n",
            " \n",
            "               precision    recall  f1-score   support\n",
            "\n",
            "    negative       0.85      0.85      0.85      7546\n",
            "    positive       0.85      0.84      0.85      7454\n",
            "\n",
            "    accuracy                           0.85     15000\n",
            "   macro avg       0.85      0.85      0.85     15000\n",
            "weighted avg       0.85      0.85      0.85     15000\n",
            "\n"
          ]
        }
      ]
    },
    {
      "cell_type": "code",
      "source": [
        "x_train, x_test, y_train, y_test=train_test_split(x, y, test_size=0.3, random_state=30)\n",
        "Nb=MultinomialNB()\n",
        "#fitting the svm for bag of words\n",
        "Nb_bow=Nb.fit(x_train,y_train)\n",
        "nb_predict=Nb.predict(x_test)\n",
        "nb_score=accuracy_score(y_test,nb_predict)\n",
        "print(\"nb_score :\",nb_score)\n",
        "print(\"--Accuracy-->\", accuracy_score(y_test,nb_predict))\n",
        "print(\"--ConfuMat-->\\n\",\"\\n\",confusion_matrix(y_test,nb_predict))\n",
        "print(\"\\n--ClassRep-->\\n\",\"\\n\", classification_report(y_test,nb_predict))"
      ],
      "metadata": {
        "colab": {
          "base_uri": "https://localhost:8080/"
        },
        "id": "8us25PncWYYC",
        "outputId": "ebb0297d-4065-4e72-fc41-0b037bf9f48c"
      },
      "execution_count": null,
      "outputs": [
        {
          "output_type": "stream",
          "name": "stdout",
          "text": [
            "nb_score : 0.8444\n",
            "--Accuracy--> 0.8444\n",
            "--ConfuMat-->\n",
            " \n",
            " [[6309 1165]\n",
            " [1169 6357]]\n",
            "\n",
            "--ClassRep-->\n",
            " \n",
            "               precision    recall  f1-score   support\n",
            "\n",
            "    negative       0.84      0.84      0.84      7474\n",
            "    positive       0.85      0.84      0.84      7526\n",
            "\n",
            "    accuracy                           0.84     15000\n",
            "   macro avg       0.84      0.84      0.84     15000\n",
            "weighted avg       0.84      0.84      0.84     15000\n",
            "\n"
          ]
        }
      ]
    },
    {
      "cell_type": "code",
      "source": [
        "from sklearn.tree import DecisionTreeClassifier\n",
        "clf = DecisionTreeClassifier(random_state=123)\n",
        "clf_bow=clf.fit(x_train,y_train)\n",
        "clf_predict=clf.predict(x_test)\n",
        "clf_score=accuracy_score(y_test,clf_predict)\n",
        "print(\"clf_score :\",nb_score)\n",
        "print(\"--Accuracy-->\", accuracy_score(y_test,clf_predict))\n",
        "print(\"--ConfuMat-->\\n\",\"\\n\",confusion_matrix(y_test,clf_predict))\n",
        "print(\"\\n--ClassRep-->\\n\",\"\\n\", classification_report(y_test,clf_predict))"
      ],
      "metadata": {
        "colab": {
          "base_uri": "https://localhost:8080/"
        },
        "id": "z8qM3rOXWc8_",
        "outputId": "49634fc5-9dd0-4413-ba3c-2f9afe7b20ab"
      },
      "execution_count": null,
      "outputs": [
        {
          "output_type": "stream",
          "name": "stdout",
          "text": [
            "clf_score : 0.8444\n",
            "--Accuracy--> 0.7216\n",
            "--ConfuMat-->\n",
            " \n",
            " [[5405 2069]\n",
            " [2107 5419]]\n",
            "\n",
            "--ClassRep-->\n",
            " \n",
            "               precision    recall  f1-score   support\n",
            "\n",
            "    negative       0.72      0.72      0.72      7474\n",
            "    positive       0.72      0.72      0.72      7526\n",
            "\n",
            "    accuracy                           0.72     15000\n",
            "   macro avg       0.72      0.72      0.72     15000\n",
            "weighted avg       0.72      0.72      0.72     15000\n",
            "\n"
          ]
        }
      ]
    },
    {
      "cell_type": "code",
      "source": [
        "\n",
        "clf = DecisionTreeClassifier(random_state=29)\n",
        "clf_bow=clf.fit(x_train,y_train)\n",
        "clf_predict=clf.predict(x_test)\n",
        "clf_score=accuracy_score(y_test,clf_predict)\n",
        "print(\"clf_score :\",nb_score)\n",
        "print(\"--Accuracy-->\", accuracy_score(y_test,clf_predict))\n",
        "print(\"--ConfuMat-->\\n\",\"\\n\",confusion_matrix(y_test,clf_predict))\n",
        "print(\"\\n--ClassRep-->\\n\",\"\\n\", classification_report(y_test,clf_predict))"
      ],
      "metadata": {
        "colab": {
          "base_uri": "https://localhost:8080/"
        },
        "id": "BeGrhxWRWdC5",
        "outputId": "10790eb3-2487-4064-affd-b3620190cde2"
      },
      "execution_count": null,
      "outputs": [
        {
          "output_type": "stream",
          "name": "stdout",
          "text": [
            "clf_score : 0.8444\n",
            "--Accuracy--> 0.7239333333333333\n",
            "--ConfuMat-->\n",
            " \n",
            " [[5384 2090]\n",
            " [2051 5475]]\n",
            "\n",
            "--ClassRep-->\n",
            " \n",
            "               precision    recall  f1-score   support\n",
            "\n",
            "    negative       0.72      0.72      0.72      7474\n",
            "    positive       0.72      0.73      0.73      7526\n",
            "\n",
            "    accuracy                           0.72     15000\n",
            "   macro avg       0.72      0.72      0.72     15000\n",
            "weighted avg       0.72      0.72      0.72     15000\n",
            "\n"
          ]
        }
      ]
    },
    {
      "cell_type": "code",
      "source": [
        "\n",
        "clf = DecisionTreeClassifier(random_state=1)\n",
        "clf_bow=clf.fit(x_train,y_train)\n",
        "clf_predict=clf.predict(x_test)\n",
        "clf_score=accuracy_score(y_test,clf_predict)\n",
        "print(\"clf_score :\",nb_score)\n",
        "print(\"--Accuracy-->\", accuracy_score(y_test,clf_predict))\n",
        "print(\"--ConfuMat-->\\n\",\"\\n\",confusion_matrix(y_test,clf_predict))\n",
        "print(\"\\n--ClassRep-->\\n\",\"\\n\", classification_report(y_test,clf_predict))"
      ],
      "metadata": {
        "colab": {
          "base_uri": "https://localhost:8080/"
        },
        "id": "P2bNemoFWdGT",
        "outputId": "99f6eed3-7f69-4fce-8058-06bc48645153"
      },
      "execution_count": null,
      "outputs": [
        {
          "output_type": "stream",
          "name": "stdout",
          "text": [
            "clf_score : 0.8444\n",
            "--Accuracy--> 0.7216666666666667\n",
            "--ConfuMat-->\n",
            " \n",
            " [[5354 2120]\n",
            " [2055 5471]]\n",
            "\n",
            "--ClassRep-->\n",
            " \n",
            "               precision    recall  f1-score   support\n",
            "\n",
            "    negative       0.72      0.72      0.72      7474\n",
            "    positive       0.72      0.73      0.72      7526\n",
            "\n",
            "    accuracy                           0.72     15000\n",
            "   macro avg       0.72      0.72      0.72     15000\n",
            "weighted avg       0.72      0.72      0.72     15000\n",
            "\n"
          ]
        }
      ]
    },
    {
      "cell_type": "code",
      "source": [
        "clf = DecisionTreeClassifier(random_state=10)\n",
        "clf_bow=clf.fit(x_train,y_train)\n",
        "clf_predict=clf.predict(x_test)\n",
        "clf_score=accuracy_score(y_test,clf_predict)\n",
        "print(\"clf_score :\",nb_score)\n",
        "print(\"--Accuracy-->\", accuracy_score(y_test,clf_predict))\n",
        "print(\"--ConfuMat-->\\n\",\"\\n\",confusion_matrix(y_test,clf_predict))\n",
        "print(\"\\n--ClassRep-->\\n\",\"\\n\", classification_report(y_test,clf_predict))"
      ],
      "metadata": {
        "colab": {
          "base_uri": "https://localhost:8080/"
        },
        "id": "bvcolx6UWdKE",
        "outputId": "d112eea2-960f-4036-9840-6259dc7df4eb"
      },
      "execution_count": null,
      "outputs": [
        {
          "output_type": "stream",
          "name": "stdout",
          "text": [
            "clf_score : 0.8444\n",
            "--Accuracy--> 0.723\n",
            "--ConfuMat-->\n",
            " \n",
            " [[5377 2097]\n",
            " [2058 5468]]\n",
            "\n",
            "--ClassRep-->\n",
            " \n",
            "               precision    recall  f1-score   support\n",
            "\n",
            "    negative       0.72      0.72      0.72      7474\n",
            "    positive       0.72      0.73      0.72      7526\n",
            "\n",
            "    accuracy                           0.72     15000\n",
            "   macro avg       0.72      0.72      0.72     15000\n",
            "weighted avg       0.72      0.72      0.72     15000\n",
            "\n"
          ]
        }
      ]
    },
    {
      "cell_type": "code",
      "source": [
        "clf = DecisionTreeClassifier(random_state=20)\n",
        "clf_bow=clf.fit(x_train,y_train)\n",
        "clf_predict=clf.predict(x_test)\n",
        "clf_score=accuracy_score(y_test,clf_predict)\n",
        "print(\"clf_score :\",nb_score)\n",
        "print(\"--Accuracy-->\", accuracy_score(y_test,clf_predict))\n",
        "print(\"--ConfuMat-->\\n\",\"\\n\",confusion_matrix(y_test,clf_predict))\n",
        "print(\"\\n--ClassRep-->\\n\",\"\\n\", classification_report(y_test,clf_predict))"
      ],
      "metadata": {
        "colab": {
          "base_uri": "https://localhost:8080/"
        },
        "id": "QOOXH99jWdOK",
        "outputId": "278b5b8c-e9c2-4547-a5e0-45ed0bd925fc"
      },
      "execution_count": null,
      "outputs": [
        {
          "output_type": "stream",
          "name": "stdout",
          "text": [
            "clf_score : 0.8444\n",
            "--Accuracy--> 0.7246\n",
            "--ConfuMat-->\n",
            " \n",
            " [[5394 2080]\n",
            " [2051 5475]]\n",
            "\n",
            "--ClassRep-->\n",
            " \n",
            "               precision    recall  f1-score   support\n",
            "\n",
            "    negative       0.72      0.72      0.72      7474\n",
            "    positive       0.72      0.73      0.73      7526\n",
            "\n",
            "    accuracy                           0.72     15000\n",
            "   macro avg       0.72      0.72      0.72     15000\n",
            "weighted avg       0.72      0.72      0.72     15000\n",
            "\n"
          ]
        }
      ]
    },
    {
      "cell_type": "code",
      "source": [
        "clf = DecisionTreeClassifier(random_state=30)\n",
        "clf_bow=clf.fit(x_train,y_train)\n",
        "clf_predict=clf.predict(x_test)\n",
        "clf_score=accuracy_score(y_test,clf_predict)\n",
        "print(\"clf_score :\",nb_score)\n",
        "print(\"--Accuracy-->\", accuracy_score(y_test,clf_predict))\n",
        "print(\"--ConfuMat-->\\n\",\"\\n\",confusion_matrix(y_test,clf_predict))\n",
        "print(\"\\n--ClassRep-->\\n\",\"\\n\", classification_report(y_test,clf_predict))"
      ],
      "metadata": {
        "colab": {
          "base_uri": "https://localhost:8080/"
        },
        "id": "fAM26aZNWdRX",
        "outputId": "9a4d3e28-c00c-458c-e71a-6d82877871dd"
      },
      "execution_count": null,
      "outputs": [
        {
          "output_type": "stream",
          "name": "stdout",
          "text": [
            "clf_score : 0.8444\n",
            "--Accuracy--> 0.7198\n",
            "--ConfuMat-->\n",
            " \n",
            " [[5384 2090]\n",
            " [2113 5413]]\n",
            "\n",
            "--ClassRep-->\n",
            " \n",
            "               precision    recall  f1-score   support\n",
            "\n",
            "    negative       0.72      0.72      0.72      7474\n",
            "    positive       0.72      0.72      0.72      7526\n",
            "\n",
            "    accuracy                           0.72     15000\n",
            "   macro avg       0.72      0.72      0.72     15000\n",
            "weighted avg       0.72      0.72      0.72     15000\n",
            "\n"
          ]
        }
      ]
    },
    {
      "cell_type": "code",
      "source": [
        "from pandas.core.common import random_state\n",
        "from sklearn.neighbors import KNeighborsClassifier\n",
        "neigh = KNeighborsClassifier(n_neighbors=3)\n",
        "neigh_bow=neigh.fit(x_train,y_train)\n",
        "neigh_predict=neigh.predict(x_test)\n",
        "neigh_score=accuracy_score(y_test,neigh_predict)\n",
        "print(\"neigh_score :\",neigh_score)\n",
        "print(\"--Accuracy-->\", accuracy_score(y_test,neigh_predict))\n",
        "print(\"--ConfuMat-->\\n\",\"\\n\",confusion_matrix(y_test,neigh_predict))\n",
        "print(\"\\n--ClassRep-->\\n\",\"\\n\", classification_report(y_test,neigh_predict))"
      ],
      "metadata": {
        "colab": {
          "base_uri": "https://localhost:8080/"
        },
        "id": "gvxGU8-DWdWj",
        "outputId": "4fe39c34-3f76-452c-ad49-c5f35261eefc"
      },
      "execution_count": null,
      "outputs": [
        {
          "output_type": "stream",
          "name": "stdout",
          "text": [
            "neigh_score : 0.6192\n",
            "--Accuracy--> 0.6192\n",
            "--ConfuMat-->\n",
            " \n",
            " [[4845 2680]\n",
            " [3032 4443]]\n",
            "\n",
            "--ClassRep-->\n",
            " \n",
            "               precision    recall  f1-score   support\n",
            "\n",
            "    negative       0.62      0.64      0.63      7525\n",
            "    positive       0.62      0.59      0.61      7475\n",
            "\n",
            "    accuracy                           0.62     15000\n",
            "   macro avg       0.62      0.62      0.62     15000\n",
            "weighted avg       0.62      0.62      0.62     15000\n",
            "\n"
          ]
        }
      ]
    },
    {
      "cell_type": "code",
      "source": [
        "x_train, x_test, y_train, y_test=train_test_split(x, y, test_size=0.3, random_state=29)\n",
        "neigh = KNeighborsClassifier(n_neighbors=4)\n",
        "neigh_bow=neigh.fit(x_train,y_train)\n",
        "neigh_predict=neigh.predict(x_test)\n",
        "neigh_score=accuracy_score(y_test,neigh_predict)\n",
        "print(\"neigh_score :\",neigh_score)\n",
        "print(\"--Accuracy-->\", accuracy_score(y_test,neigh_predict))\n",
        "print(\"--ConfuMat-->\\n\",\"\\n\",confusion_matrix(y_test,neigh_predict))\n",
        "print(\"\\n--ClassRep-->\\n\",\"\\n\", classification_report(y_test,neigh_predict))"
      ],
      "metadata": {
        "colab": {
          "base_uri": "https://localhost:8080/"
        },
        "id": "B3kWJpY6WddL",
        "outputId": "c8fd3757-d44c-4d32-bd65-2b4e543e8ade"
      },
      "execution_count": null,
      "outputs": [
        {
          "output_type": "stream",
          "name": "stdout",
          "text": [
            "neigh_score : 0.6136\n",
            "--Accuracy--> 0.6136\n",
            "--ConfuMat-->\n",
            " \n",
            " [[5850 1675]\n",
            " [4121 3354]]\n",
            "\n",
            "--ClassRep-->\n",
            " \n",
            "               precision    recall  f1-score   support\n",
            "\n",
            "    negative       0.59      0.78      0.67      7525\n",
            "    positive       0.67      0.45      0.54      7475\n",
            "\n",
            "    accuracy                           0.61     15000\n",
            "   macro avg       0.63      0.61      0.60     15000\n",
            "weighted avg       0.63      0.61      0.60     15000\n",
            "\n"
          ]
        }
      ]
    },
    {
      "cell_type": "code",
      "source": [
        "x_train, x_test, y_train, y_test=train_test_split(x, y, test_size=0.3, random_state=1)\n",
        "neigh = KNeighborsClassifier(n_neighbors=4)\n",
        "neigh_bow=neigh.fit(x_train,y_train)\n",
        "neigh_predict=neigh.predict(x_test)\n",
        "neigh_score=accuracy_score(y_test,neigh_predict)\n",
        "print(\"neigh_score :\",neigh_score)\n",
        "print(\"--Accuracy-->\", accuracy_score(y_test,neigh_predict))\n",
        "print(\"--ConfuMat-->\\n\",\"\\n\",confusion_matrix(y_test,neigh_predict))\n",
        "print(\"\\n--ClassRep-->\\n\",\"\\n\", classification_report(y_test,neigh_predict))"
      ],
      "metadata": {
        "colab": {
          "base_uri": "https://localhost:8080/"
        },
        "id": "1njYuDHVWdga",
        "outputId": "e5f3f9b7-cb13-4d01-e1ee-eaa4a10b6ce2"
      },
      "execution_count": null,
      "outputs": [
        {
          "output_type": "stream",
          "name": "stdout",
          "text": [
            "neigh_score : 0.6020666666666666\n",
            "--Accuracy--> 0.6020666666666666\n",
            "--ConfuMat-->\n",
            " \n",
            " [[5537 1984]\n",
            " [3985 3494]]\n",
            "\n",
            "--ClassRep-->\n",
            " \n",
            "               precision    recall  f1-score   support\n",
            "\n",
            "    negative       0.58      0.74      0.65      7521\n",
            "    positive       0.64      0.47      0.54      7479\n",
            "\n",
            "    accuracy                           0.60     15000\n",
            "   macro avg       0.61      0.60      0.59     15000\n",
            "weighted avg       0.61      0.60      0.59     15000\n",
            "\n"
          ]
        }
      ]
    },
    {
      "cell_type": "code",
      "source": [
        "x_train, x_test, y_train, y_test=train_test_split(x, y, test_size=0.3, random_state=10)\n",
        "neigh = KNeighborsClassifier(n_neighbors=7)\n",
        "neigh_bow=neigh.fit(x_train,y_train)\n",
        "neigh_predict=neigh.predict(x_test)\n",
        "neigh_score=accuracy_score(y_test,neigh_predict)\n",
        "print(\"neigh_score :\",neigh_score)\n",
        "print(\"--Accuracy-->\", accuracy_score(y_test,neigh_predict))\n",
        "print(\"--ConfuMat-->\\n\",\"\\n\",confusion_matrix(y_test,neigh_predict))\n",
        "print(\"\\n--ClassRep-->\\n\",\"\\n\", classification_report(y_test,neigh_predict))"
      ],
      "metadata": {
        "colab": {
          "base_uri": "https://localhost:8080/"
        },
        "id": "HMp_NKB6Wdj-",
        "outputId": "541deae6-6307-43d0-e948-832253136b84"
      },
      "execution_count": null,
      "outputs": [
        {
          "output_type": "stream",
          "name": "stdout",
          "text": [
            "neigh_score : 0.6158\n",
            "--Accuracy--> 0.6158\n",
            "--ConfuMat-->\n",
            " \n",
            " [[4929 2666]\n",
            " [3097 4308]]\n",
            "\n",
            "--ClassRep-->\n",
            " \n",
            "               precision    recall  f1-score   support\n",
            "\n",
            "    negative       0.61      0.65      0.63      7595\n",
            "    positive       0.62      0.58      0.60      7405\n",
            "\n",
            "    accuracy                           0.62     15000\n",
            "   macro avg       0.62      0.62      0.62     15000\n",
            "weighted avg       0.62      0.62      0.62     15000\n",
            "\n"
          ]
        }
      ]
    },
    {
      "cell_type": "code",
      "source": [
        "x_train, x_test, y_train, y_test=train_test_split(x, y, test_size=0.3, random_state=20)\n",
        "neigh = KNeighborsClassifier(n_neighbors=4)\n",
        "neigh_bow=neigh.fit(x_train,y_train)\n",
        "neigh_predict=neigh.predict(x_test)\n",
        "neigh_score=accuracy_score(y_test,neigh_predict)\n",
        "print(\"neigh_score :\",neigh_score)\n",
        "print(\"--Accuracy-->\", accuracy_score(y_test,neigh_predict))\n",
        "print(\"--ConfuMat-->\\n\",\"\\n\",confusion_matrix(y_test,neigh_predict))\n",
        "print(\"\\n--ClassRep-->\\n\",\"\\n\", classification_report(y_test,neigh_predict))"
      ],
      "metadata": {
        "colab": {
          "base_uri": "https://localhost:8080/"
        },
        "id": "7rnyZA43WdnX",
        "outputId": "012c029e-c90d-47e3-d730-40d2f3c4a4d6"
      },
      "execution_count": null,
      "outputs": [
        {
          "output_type": "stream",
          "name": "stdout",
          "text": [
            "neigh_score : 0.6056666666666667\n",
            "--Accuracy--> 0.6056666666666667\n",
            "--ConfuMat-->\n",
            " \n",
            " [[5632 1914]\n",
            " [4001 3453]]\n",
            "\n",
            "--ClassRep-->\n",
            " \n",
            "               precision    recall  f1-score   support\n",
            "\n",
            "    negative       0.58      0.75      0.66      7546\n",
            "    positive       0.64      0.46      0.54      7454\n",
            "\n",
            "    accuracy                           0.61     15000\n",
            "   macro avg       0.61      0.60      0.60     15000\n",
            "weighted avg       0.61      0.61      0.60     15000\n",
            "\n"
          ]
        }
      ]
    },
    {
      "cell_type": "code",
      "source": [
        "x_train, x_test, y_train, y_test=train_test_split(x, y, test_size=0.3, random_state=30)\n",
        "neigh = KNeighborsClassifier(n_neighbors=15)\n",
        "neigh_bow=neigh.fit(x_train,y_train)\n",
        "neigh_predict=neigh.predict(x_test)\n",
        "neigh_score=accuracy_score(y_test,neigh_predict)\n",
        "print(\"neigh_score :\",neigh_score)\n",
        "print(\"--Accuracy-->\", accuracy_score(y_test,neigh_predict))\n",
        "print(\"--ConfuMat-->\\n\",\"\\n\",confusion_matrix(y_test,neigh_predict))\n",
        "print(\"\\n--ClassRep-->\\n\",\"\\n\", classification_report(y_test,neigh_predict))"
      ],
      "metadata": {
        "colab": {
          "base_uri": "https://localhost:8080/"
        },
        "id": "eZxR3fG0WdrD",
        "outputId": "78632afe-4600-4135-c67f-236baeda1d76"
      },
      "execution_count": null,
      "outputs": [
        {
          "output_type": "stream",
          "name": "stdout",
          "text": [
            "neigh_score : 0.669\n",
            "--Accuracy--> 0.669\n",
            "--ConfuMat-->\n",
            " \n",
            " [[4194 3280]\n",
            " [1685 5841]]\n",
            "\n",
            "--ClassRep-->\n",
            " \n",
            "               precision    recall  f1-score   support\n",
            "\n",
            "    negative       0.71      0.56      0.63      7474\n",
            "    positive       0.64      0.78      0.70      7526\n",
            "\n",
            "    accuracy                           0.67     15000\n",
            "   macro avg       0.68      0.67      0.66     15000\n",
            "weighted avg       0.68      0.67      0.67     15000\n",
            "\n"
          ]
        }
      ]
    },
    {
      "cell_type": "code",
      "source": [
        "!pip install matplotlib"
      ],
      "metadata": {
        "colab": {
          "base_uri": "https://localhost:8080/"
        },
        "id": "jymZCMMOE7ZE",
        "outputId": "d9ce140e-7adf-4d83-88a3-b0884a398152"
      },
      "execution_count": null,
      "outputs": [
        {
          "output_type": "stream",
          "name": "stdout",
          "text": [
            "Requirement already satisfied: matplotlib in /usr/local/lib/python3.7/dist-packages (3.2.2)\n",
            "Requirement already satisfied: python-dateutil>=2.1 in /usr/local/lib/python3.7/dist-packages (from matplotlib) (2.8.2)\n",
            "Requirement already satisfied: numpy>=1.11 in /usr/local/lib/python3.7/dist-packages (from matplotlib) (1.19.5)\n",
            "Requirement already satisfied: cycler>=0.10 in /usr/local/lib/python3.7/dist-packages (from matplotlib) (0.11.0)\n",
            "Requirement already satisfied: kiwisolver>=1.0.1 in /usr/local/lib/python3.7/dist-packages (from matplotlib) (1.3.2)\n",
            "Requirement already satisfied: pyparsing!=2.0.4,!=2.1.2,!=2.1.6,>=2.0.1 in /usr/local/lib/python3.7/dist-packages (from matplotlib) (3.0.6)\n",
            "Requirement already satisfied: six>=1.5 in /usr/local/lib/python3.7/dist-packages (from python-dateutil>=2.1->matplotlib) (1.15.0)\n"
          ]
        }
      ]
    },
    {
      "cell_type": "code",
      "source": [
        "# Importing the matplotlib library\n",
        "import matplotlib.pyplot as plt\n",
        "plt.figure(figsize = (9,5))\n",
        "\n",
        "c = ['Random forest', 'Logistic regression', 'Naivebayes', 'Decision tree', 'knn']\n",
        "\n",
        "a= [82.8, 85.6, 82.7, 71.4, 63.5]\n",
        "# Passing the parameters to the bar function, this is the main function which creates the bar plot\n",
        "plt.bar(c, a,width= 0.25, align='center',color='blue', edgecolor = 'red')\n",
        "# Displaying the bar plot\n",
        "plt.show()"
      ],
      "metadata": {
        "colab": {
          "base_uri": "https://localhost:8080/",
          "height": 320
        },
        "id": "Rwn_3foNWk67",
        "outputId": "79c39be7-128e-45f2-c40b-34de6019a563"
      },
      "execution_count": null,
      "outputs": [
        {
          "output_type": "display_data",
          "data": {
            "image/png": "[encoded data removed]",
            "text/plain": [
              "<Figure size 648x360 with 1 Axes>"
            ]
          },
          "metadata": {
            "needs_background": "light"
          }
        }
      ]
    },
    {
      "cell_type": "code",
      "source": [
        "import nltk\n",
        "nltk.download('vader_lexicon')\n",
        "from nltk.sentiment.vader import SentimentIntensityAnalyzer\n",
        "analyser = SentimentIntensityAnalyzer()\n",
        "df['score']= df['review'].apply(lambda review: analyser.polarity_scores(review))\n"
      ],
      "metadata": {
        "colab": {
          "base_uri": "https://localhost:8080/"
        },
        "id": "G-Zq_xjQwgap",
        "outputId": "d036be80-1d01-4826-dd76-0c95dfac2cbb"
      },
      "execution_count": null,
      "outputs": [
        {
          "output_type": "stream",
          "name": "stdout",
          "text": [
            "[nltk_data] Downloading package vader_lexicon to /root/nltk_data...\n",
            "[nltk_data]   Package vader_lexicon is already up-to-date!\n"
          ]
        }
      ]
    },
    {
      "cell_type": "code",
      "source": [
        "#df.drop_duplicates(subset =”review”, keep = “first”, inplace = True)\n",
        "df['review'] = df['review'].astype('str')\n",
        "def get_polarity(text):\n",
        "  \n",
        "  return TextBlob(text).sentiment.polarity\n",
        "df['Polarity'] = df['review'].apply(get_polarity)"
      ],
      "metadata": {
        "id": "BY3Hh49O0riY"
      },
      "execution_count": null,
      "outputs": []
    },
    {
      "cell_type": "code",
      "source": [
        "\n",
        "df['compound'] = df['score'].apply(lambda score_dict: score_dict['compound'])\n",
        "df['sentiment_type']=''\n",
        "df.loc[df.compound>0,'sentiment_type']='POSITIVE'\n",
        "df.loc[df.compound==0,'sentiment_type']='NEUTRAL'\n",
        "df.loc[df.compound<0,'sentiment_type']='NEGATIVE'\n",
        "df.head()\n",
        "df.drop(['score'],axis=1)"
      ],
      "metadata": {
        "colab": {
          "base_uri": "https://localhost:8080/",
          "height": 423
        },
        "id": "tj_SNcjXwgzV",
        "outputId": "115c706b-015c-4974-9105-128f90b0117b"
      },
      "execution_count": null,
      "outputs": [
        {
          "output_type": "execute_result",
          "data": {
            "text/html": [
              "\n",
              "  <div id=\"df-23d54d2b-53e8-42c0-a17f-e008c58b1e1e\">\n",
              "    <div class=\"colab-df-container\">\n",
              "      <div>\n",
              "<style scoped>\n",
              "    .dataframe tbody tr th:only-of-type {\n",
              "        vertical-align: middle;\n",
              "    }\n",
              "\n",
              "    .dataframe tbody tr th {\n",
              "        vertical-align: top;\n",
              "    }\n",
              "\n",
              "    .dataframe thead th {\n",
              "        text-align: right;\n",
              "    }\n",
              "</style>\n",
              "<table border=\"1\" class=\"dataframe\">\n",
              "  <thead>\n",
              "    <tr style=\"text-align: right;\">\n",
              "      <th></th>\n",
              "      <th>review</th>\n",
              "      <th>sentiment</th>\n",
              "      <th>Polarity</th>\n",
              "      <th>compound</th>\n",
              "      <th>sentiment_type</th>\n",
              "    </tr>\n",
              "  </thead>\n",
              "  <tbody>\n",
              "    <tr>\n",
              "      <th>0</th>\n",
              "      <td>One reviewers mentioned watching 1 Oz episode ...</td>\n",
              "      <td>positive</td>\n",
              "      <td>0.025587</td>\n",
              "      <td>-0.9945</td>\n",
              "      <td>NEGATIVE</td>\n",
              "    </tr>\n",
              "    <tr>\n",
              "      <th>1</th>\n",
              "      <td>wonderful little production filming technique ...</td>\n",
              "      <td>positive</td>\n",
              "      <td>0.127604</td>\n",
              "      <td>0.9582</td>\n",
              "      <td>POSITIVE</td>\n",
              "    </tr>\n",
              "    <tr>\n",
              "      <th>2</th>\n",
              "      <td>thought wonderful way spend time hot summer we...</td>\n",
              "      <td>positive</td>\n",
              "      <td>0.264732</td>\n",
              "      <td>0.9520</td>\n",
              "      <td>POSITIVE</td>\n",
              "    </tr>\n",
              "    <tr>\n",
              "      <th>3</th>\n",
              "      <td>Basically theres family little boy Jake thinks...</td>\n",
              "      <td>negative</td>\n",
              "      <td>-0.060937</td>\n",
              "      <td>-0.9117</td>\n",
              "      <td>NEGATIVE</td>\n",
              "    </tr>\n",
              "    <tr>\n",
              "      <th>4</th>\n",
              "      <td>Petter Matteis Love Time Money visually stunni...</td>\n",
              "      <td>positive</td>\n",
              "      <td>0.239534</td>\n",
              "      <td>0.9871</td>\n",
              "      <td>POSITIVE</td>\n",
              "    </tr>\n",
              "    <tr>\n",
              "      <th>...</th>\n",
              "      <td>...</td>\n",
              "      <td>...</td>\n",
              "      <td>...</td>\n",
              "      <td>...</td>\n",
              "      <td>...</td>\n",
              "    </tr>\n",
              "    <tr>\n",
              "      <th>49995</th>\n",
              "      <td>thought movie right good job wasnt creative or...</td>\n",
              "      <td>positive</td>\n",
              "      <td>0.402591</td>\n",
              "      <td>0.9762</td>\n",
              "      <td>POSITIVE</td>\n",
              "    </tr>\n",
              "    <tr>\n",
              "      <th>49996</th>\n",
              "      <td>Bad plot bad dialogue bad acting idiotic direc...</td>\n",
              "      <td>negative</td>\n",
              "      <td>-0.322222</td>\n",
              "      <td>-0.9320</td>\n",
              "      <td>NEGATIVE</td>\n",
              "    </tr>\n",
              "    <tr>\n",
              "      <th>49997</th>\n",
              "      <td>Catholic taught parochial elementary schools n...</td>\n",
              "      <td>negative</td>\n",
              "      <td>0.056984</td>\n",
              "      <td>-0.9074</td>\n",
              "      <td>NEGATIVE</td>\n",
              "    </tr>\n",
              "    <tr>\n",
              "      <th>49998</th>\n",
              "      <td>Im going disagree previous comment side Maltin...</td>\n",
              "      <td>negative</td>\n",
              "      <td>-0.042725</td>\n",
              "      <td>-0.5267</td>\n",
              "      <td>NEGATIVE</td>\n",
              "    </tr>\n",
              "    <tr>\n",
              "      <th>49999</th>\n",
              "      <td>one expects Star Trek movies high art fans exp...</td>\n",
              "      <td>negative</td>\n",
              "      <td>0.167500</td>\n",
              "      <td>0.7765</td>\n",
              "      <td>POSITIVE</td>\n",
              "    </tr>\n",
              "  </tbody>\n",
              "</table>\n",
              "<p>50000 rows × 5 columns</p>\n",
              "</div>\n",
              "      <button class=\"colab-df-convert\" onclick=\"convertToInteractive('df-23d54d2b-53e8-42c0-a17f-e008c58b1e1e')\"\n",
              "              title=\"Convert this dataframe to an interactive table.\"\n",
              "              style=\"display:none;\">\n",
              "        \n",
              "  <svg xmlns=\"http://www.w3.org/2000/svg\" height=\"24px\"viewBox=\"0 0 24 24\"\n",
              "       width=\"24px\">\n",
              "    <path d=\"M0 0h24v24H0V0z\" fill=\"none\"/>\n",
              "    <path d=\"M18.56 5.44l.94 2.06.94-2.06 2.06-.94-2.06-.94-.94-2.06-.94 2.06-2.06.94zm-11 1L8.5 8.5l.94-2.06 2.06-.94-2.06-.94L8.5 2.5l-.94 2.06-2.06.94zm10 10l.94 2.06.94-2.06 2.06-.94-2.06-.94-.94-2.06-.94 2.06-2.06.94z\"/><path d=\"M17.41 7.96l-1.37-1.37c-.4-.4-.92-.59-1.43-.59-.52 0-1.04.2-1.43.59L10.3 9.45l-7.72 7.72c-.78.78-.78 2.05 0 2.83L4 21.41c.39.39.9.59 1.41.59.51 0 1.02-.2 1.41-.59l7.78-7.78 2.81-2.81c.8-.78.8-2.07 0-2.86zM5.41 20L4 18.59l7.72-7.72 1.47 1.35L5.41 20z\"/>\n",
              "  </svg>\n",
              "      </button>\n",
              "      \n",
              "  <style>\n",
              "    .colab-df-container {\n",
              "      display:flex;\n",
              "      flex-wrap:wrap;\n",
              "      gap: 12px;\n",
              "    }\n",
              "\n",
              "    .colab-df-convert {\n",
              "      background-color: #E8F0FE;\n",
              "      border: none;\n",
              "      border-radius: 50%;\n",
              "      cursor: pointer;\n",
              "      display: none;\n",
              "      fill: #1967D2;\n",
              "      height: 32px;\n",
              "      padding: 0 0 0 0;\n",
              "      width: 32px;\n",
              "    }\n",
              "\n",
              "    .colab-df-convert:hover {\n",
              "      background-color: #E2EBFA;\n",
              "      box-shadow: 0px 1px 2px rgba(60, 64, 67, 0.3), 0px 1px 3px 1px rgba(60, 64, 67, 0.15);\n",
              "      fill: #174EA6;\n",
              "    }\n",
              "\n",
              "    [theme=dark] .colab-df-convert {\n",
              "      background-color: #3B4455;\n",
              "      fill: #D2E3FC;\n",
              "    }\n",
              "\n",
              "    [theme=dark] .colab-df-convert:hover {\n",
              "      background-color: #434B5C;\n",
              "      box-shadow: 0px 1px 3px 1px rgba(0, 0, 0, 0.15);\n",
              "      filter: drop-shadow(0px 1px 2px rgba(0, 0, 0, 0.3));\n",
              "      fill: #FFFFFF;\n",
              "    }\n",
              "  </style>\n",
              "\n",
              "      <script>\n",
              "        const buttonEl =\n",
              "          document.querySelector('#df-23d54d2b-53e8-42c0-a17f-e008c58b1e1e button.colab-df-convert');\n",
              "        buttonEl.style.display =\n",
              "          google.colab.kernel.accessAllowed ? 'block' : 'none';\n",
              "\n",
              "        async function convertToInteractive(key) {\n",
              "          const element = document.querySelector('#df-23d54d2b-53e8-42c0-a17f-e008c58b1e1e');\n",
              "          const dataTable =\n",
              "            await google.colab.kernel.invokeFunction('convertToInteractive',\n",
              "                                                     [key], {});\n",
              "          if (!dataTable) return;\n",
              "\n",
              "          const docLinkHtml = 'Like what you see? Visit the ' +\n",
              "            '<a target=\"_blank\" href=https://colab.research.google.com/notebooks/data_table.ipynb>data table notebook</a>'\n",
              "            + ' to learn more about interactive tables.';\n",
              "          element.innerHTML = '';\n",
              "          dataTable['output_type'] = 'display_data';\n",
              "          await google.colab.output.renderOutput(dataTable, element);\n",
              "          const docLink = document.createElement('div');\n",
              "          docLink.innerHTML = docLinkHtml;\n",
              "          element.appendChild(docLink);\n",
              "        }\n",
              "      </script>\n",
              "    </div>\n",
              "  </div>\n",
              "  "
            ],
            "text/plain": [
              "                                                  review  ... sentiment_type\n",
              "0      One reviewers mentioned watching 1 Oz episode ...  ...       NEGATIVE\n",
              "1      wonderful little production filming technique ...  ...       POSITIVE\n",
              "2      thought wonderful way spend time hot summer we...  ...       POSITIVE\n",
              "3      Basically theres family little boy Jake thinks...  ...       NEGATIVE\n",
              "4      Petter Matteis Love Time Money visually stunni...  ...       POSITIVE\n",
              "...                                                  ...  ...            ...\n",
              "49995  thought movie right good job wasnt creative or...  ...       POSITIVE\n",
              "49996  Bad plot bad dialogue bad acting idiotic direc...  ...       NEGATIVE\n",
              "49997  Catholic taught parochial elementary schools n...  ...       NEGATIVE\n",
              "49998  Im going disagree previous comment side Maltin...  ...       NEGATIVE\n",
              "49999  one expects Star Trek movies high art fans exp...  ...       POSITIVE\n",
              "\n",
              "[50000 rows x 5 columns]"
            ]
          },
          "metadata": {},
          "execution_count": 52
        }
      ]
    },
    {
      "cell_type": "code",
      "source": [
        "df.sentiment_type.value_counts().plot(kind='bar',title=\"sentiment analysis\")"
      ],
      "metadata": {
        "colab": {
          "base_uri": "https://localhost:8080/",
          "height": 338
        },
        "id": "yJZBSp-9whEd",
        "outputId": "c00b6942-d5ab-48a2-eb9e-0f8a1e9e702b"
      },
      "execution_count": null,
      "outputs": [
        {
          "output_type": "execute_result",
          "data": {
            "text/plain": [
              "<matplotlib.axes._subplots.AxesSubplot at 0x7f06ddbf9250>"
            ]
          },
          "metadata": {},
          "execution_count": 58
        },
        {
          "output_type": "display_data",
          "data": {
            "image/png": "[encoded data removed]",
            "text/plain": [
              "<Figure size 432x288 with 1 Axes>"
            ]
          },
          "metadata": {
            "needs_background": "light"
          }
        }
      ]
    },
    {
      "cell_type": "code",
      "source": [
        "import numpy as np\n",
        "from sklearn.neighbors import KNeighborsClassifier\n",
        "from sklearn.model_selection import validation_curve\n",
        "param_range = np.arange(1, 10, 1)\n",
        "train_scores, test_scores = validation_curve(KNeighborsClassifier(),\n",
        "                                  x,y, param_name=\"n_neighbors\", param_range=param_range,cv=3, scoring=\"accuracy\")\n",
        "train_mean = np.mean(train_scores, axis=1)\n",
        "train_std = np.std(train_scores, axis=1)\n",
        "test_mean = np.mean(test_scores, axis=1)\n",
        "test_std = np.std(test_scores, axis=1)\n",
        "plt.subplots(1, figsize=(7,7))\n",
        "plt.plot(param_range, train_mean, label=\"Training score\", color=\"black\")\n",
        "plt.plot(param_range, test_mean, label=\"Cross-validation score\", color=\"dimgrey\")\n",
        "\n",
        "plt.fill_between(param_range, train_mean - train_std, train_mean + train_std, color=\"gray\")\n",
        "plt.fill_between(param_range, test_mean - test_std, test_mean + test_std, color=\"gainsboro\")\n",
        " \n",
        "plt.title(\"Validation Curve With KNN\")\n",
        "plt.xlabel(\"Number Of neighbours\")\n",
        "plt.ylabel(\"Accuracy Score\")\n",
        "plt.tight_layout()\n",
        "plt.legend(loc=\"best\")\n",
        "plt.show()"
      ],
      "metadata": {
        "id": "EgvOgfzb6h-l",
        "colab": {
          "base_uri": "https://localhost:8080/",
          "height": 512
        },
        "outputId": "ef5b42d0-f947-496f-86b1-f6107fdeae9f"
      },
      "execution_count": 9,
      "outputs": [
        {
          "output_type": "display_data",
          "data": {
            "image/png": "[encoded data removed]",
            "text/plain": [
              "<Figure size 504x504 with 1 Axes>"
            ]
          },
          "metadata": {
            "needs_background": "light"
          }
        }
      ]
    },
    {
      "cell_type": "code",
      "source": [
        "import numpy as np\n",
        "from sklearn.ensemble import RandomForestClassifier\n",
        "from sklearn.model_selection import validation_curve\n",
        "param_range = np.arange(1, 10, 1)\n",
        "train_scores, test_scores = validation_curve(RandomForestClassifier(),\n",
        "                                  x, y, param_name=\"n_estimators\", param_range=param_range,cv=3, scoring=\"accuracy\")\n",
        "train_mean = np.mean(train_scores, axis=1)\n",
        "train_std = np.std(train_scores, axis=1)\n",
        "test_mean = np.mean(test_scores, axis=1)\n",
        "test_std = np.std(test_scores, axis=1)\n",
        "plt.subplots(1, figsize=(7,7))\n",
        "plt.plot(param_range, train_mean, label=\"Training score\", color=\"black\")\n",
        "plt.plot(param_range, test_mean, label=\"Cross-validation score\", color=\"dimgrey\")\n",
        "\n",
        "plt.fill_between(param_range, train_mean - train_std, train_mean + train_std, color=\"gray\")\n",
        "plt.fill_between(param_range, test_mean - test_std, test_mean + test_std, color=\"gainsboro\")\n",
        " \n",
        "plt.title(\"Validation Curve With RandomForest\")\n",
        "plt.xlabel(\"Number Of trees\")\n",
        "plt.ylabel(\"Accuracy Score\")\n",
        "plt.tight_layout()\n",
        "plt.legend(loc=\"best\")\n",
        "plt.show()"
      ],
      "metadata": {
        "id": "WuUQocS_mWeC",
        "colab": {
          "base_uri": "https://localhost:8080/",
          "height": 512
        },
        "outputId": "4e4ed60d-34e1-4520-d557-9761853180c4"
      },
      "execution_count": 8,
      "outputs": [
        {
          "output_type": "display_data",
          "data": {
            "image/png": "[encoded data removed]",
            "text/plain": [
              "<Figure size 504x504 with 1 Axes>"
            ]
          },
          "metadata": {
            "needs_background": "light"
          }
        }
      ]
    }
  ]
}