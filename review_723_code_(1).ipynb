{
  "nbformat": 4,
  "nbformat_minor": 0,
  "metadata": {
    "colab": {
      "name": "review_723_code (1).ipynb",
      "provenance": [],
      "collapsed_sections": []
    },
    "kernelspec": {
      "name": "python3",
      "display_name": "Python 3"
    },
    "language_info": {
      "name": "python"
    }
  },
  "cells": [
    {
      "cell_type": "code",
      "execution_count": 2,
      "metadata": {
        "id": "Ik_qaXfWRPwc"
      },
      "outputs": [],
      "source": [
        "import numpy as np\n",
        "import pandas as pd\n",
        "import seaborn as sns\n",
        "import matplotlib.pyplot as plt\n",
        "import nltk\n",
        "from sklearn.feature_extraction.text import CountVectorizer\n",
        "from sklearn.feature_extraction.text import TfidfVectorizer\n",
        "from sklearn.preprocessing import LabelBinarizer\n",
        "from nltk.corpus import stopwords\n",
        "from nltk.stem.porter import PorterStemmer\n",
        "from wordcloud import WordCloud,STOPWORDS\n",
        "from nltk.stem import WordNetLemmatizer\n",
        "from nltk.tokenize import word_tokenize,sent_tokenize\n",
        "from bs4 import BeautifulSoup\n",
        "import spacy\n",
        "import re,string,unicodedata\n",
        "from nltk.tokenize.toktok import ToktokTokenizer\n",
        "from nltk.stem import LancasterStemmer,WordNetLemmatizer\n",
        "from sklearn.linear_model import LogisticRegression,SGDClassifier\n",
        "from sklearn.naive_bayes import MultinomialNB\n",
        "from sklearn.svm import SVC\n",
        "from textblob import TextBlob\n",
        "from textblob import Word\n",
        "from sklearn.metrics import classification_report,confusion_matrix,accuracy_score\n",
        "import warnings\n",
        "warnings.filterwarnings('ignore')"
      ]
    },
    {
      "cell_type": "code",
      "source": [
        "df = pd.read_csv('/content/IMDB Dataset.csv',engine=\"python\",error_bad_lines=False)\n",
        "df"
      ],
      "metadata": {
        "colab": {
          "base_uri": "https://localhost:8080/",
          "height": 408
        },
        "id": "ITt8xXIJXHJf",
        "outputId": "5bfe3c50-389f-404a-a0f6-2a867db02fae"
      },
      "execution_count": 3,
      "outputs": [
        {
          "output_type": "execute_result",
          "data": {
            "text/html": [
              "\n",
              "  <div id=\"df-3aa0d6a5-54d1-45f6-a1a2-720a4af235dc\">\n",
              "    <div class=\"colab-df-container\">\n",
              "      <div>\n",
              "<style scoped>\n",
              "    .dataframe tbody tr th:only-of-type {\n",
              "        vertical-align: middle;\n",
              "    }\n",
              "\n",
              "    .dataframe tbody tr th {\n",
              "        vertical-align: top;\n",
              "    }\n",
              "\n",
              "    .dataframe thead th {\n",
              "        text-align: right;\n",
              "    }\n",
              "</style>\n",
              "<table border=\"1\" class=\"dataframe\">\n",
              "  <thead>\n",
              "    <tr style=\"text-align: right;\">\n",
              "      <th></th>\n",
              "      <th>review</th>\n",
              "      <th>sentiment</th>\n",
              "    </tr>\n",
              "  </thead>\n",
              "  <tbody>\n",
              "    <tr>\n",
              "      <th>0</th>\n",
              "      <td>One of the other reviewers has mentioned that ...</td>\n",
              "      <td>positive</td>\n",
              "    </tr>\n",
              "    <tr>\n",
              "      <th>1</th>\n",
              "      <td>A wonderful little production. &lt;br /&gt;&lt;br /&gt;The...</td>\n",
              "      <td>positive</td>\n",
              "    </tr>\n",
              "    <tr>\n",
              "      <th>2</th>\n",
              "      <td>I thought this was a wonderful way to spend ti...</td>\n",
              "      <td>positive</td>\n",
              "    </tr>\n",
              "    <tr>\n",
              "      <th>3</th>\n",
              "      <td>Basically there's a family where a little boy ...</td>\n",
              "      <td>negative</td>\n",
              "    </tr>\n",
              "    <tr>\n",
              "      <th>4</th>\n",
              "      <td>Petter Mattei's \"Love in the Time of Money\" is...</td>\n",
              "      <td>positive</td>\n",
              "    </tr>\n",
              "    <tr>\n",
              "      <th>...</th>\n",
              "      <td>...</td>\n",
              "      <td>...</td>\n",
              "    </tr>\n",
              "    <tr>\n",
              "      <th>49995</th>\n",
              "      <td>I thought this movie did a down right good job...</td>\n",
              "      <td>positive</td>\n",
              "    </tr>\n",
              "    <tr>\n",
              "      <th>49996</th>\n",
              "      <td>Bad plot, bad dialogue, bad acting, idiotic di...</td>\n",
              "      <td>negative</td>\n",
              "    </tr>\n",
              "    <tr>\n",
              "      <th>49997</th>\n",
              "      <td>I am a Catholic taught in parochial elementary...</td>\n",
              "      <td>negative</td>\n",
              "    </tr>\n",
              "    <tr>\n",
              "      <th>49998</th>\n",
              "      <td>I'm going to have to disagree with the previou...</td>\n",
              "      <td>negative</td>\n",
              "    </tr>\n",
              "    <tr>\n",
              "      <th>49999</th>\n",
              "      <td>No one expects the Star Trek movies to be high...</td>\n",
              "      <td>negative</td>\n",
              "    </tr>\n",
              "  </tbody>\n",
              "</table>\n",
              "<p>50000 rows × 2 columns</p>\n",
              "</div>\n",
              "      <button class=\"colab-df-convert\" onclick=\"convertToInteractive('df-3aa0d6a5-54d1-45f6-a1a2-720a4af235dc')\"\n",
              "              title=\"Convert this dataframe to an interactive table.\"\n",
              "              style=\"display:none;\">\n",
              "        \n",
              "  <svg xmlns=\"http://www.w3.org/2000/svg\" height=\"24px\"viewBox=\"0 0 24 24\"\n",
              "       width=\"24px\">\n",
              "    <path d=\"M0 0h24v24H0V0z\" fill=\"none\"/>\n",
              "    <path d=\"M18.56 5.44l.94 2.06.94-2.06 2.06-.94-2.06-.94-.94-2.06-.94 2.06-2.06.94zm-11 1L8.5 8.5l.94-2.06 2.06-.94-2.06-.94L8.5 2.5l-.94 2.06-2.06.94zm10 10l.94 2.06.94-2.06 2.06-.94-2.06-.94-.94-2.06-.94 2.06-2.06.94z\"/><path d=\"M17.41 7.96l-1.37-1.37c-.4-.4-.92-.59-1.43-.59-.52 0-1.04.2-1.43.59L10.3 9.45l-7.72 7.72c-.78.78-.78 2.05 0 2.83L4 21.41c.39.39.9.59 1.41.59.51 0 1.02-.2 1.41-.59l7.78-7.78 2.81-2.81c.8-.78.8-2.07 0-2.86zM5.41 20L4 18.59l7.72-7.72 1.47 1.35L5.41 20z\"/>\n",
              "  </svg>\n",
              "      </button>\n",
              "      \n",
              "  <style>\n",
              "    .colab-df-container {\n",
              "      display:flex;\n",
              "      flex-wrap:wrap;\n",
              "      gap: 12px;\n",
              "    }\n",
              "\n",
              "    .colab-df-convert {\n",
              "      background-color: #E8F0FE;\n",
              "      border: none;\n",
              "      border-radius: 50%;\n",
              "      cursor: pointer;\n",
              "      display: none;\n",
              "      fill: #1967D2;\n",
              "      height: 32px;\n",
              "      padding: 0 0 0 0;\n",
              "      width: 32px;\n",
              "    }\n",
              "\n",
              "    .colab-df-convert:hover {\n",
              "      background-color: #E2EBFA;\n",
              "      box-shadow: 0px 1px 2px rgba(60, 64, 67, 0.3), 0px 1px 3px 1px rgba(60, 64, 67, 0.15);\n",
              "      fill: #174EA6;\n",
              "    }\n",
              "\n",
              "    [theme=dark] .colab-df-convert {\n",
              "      background-color: #3B4455;\n",
              "      fill: #D2E3FC;\n",
              "    }\n",
              "\n",
              "    [theme=dark] .colab-df-convert:hover {\n",
              "      background-color: #434B5C;\n",
              "      box-shadow: 0px 1px 3px 1px rgba(0, 0, 0, 0.15);\n",
              "      filter: drop-shadow(0px 1px 2px rgba(0, 0, 0, 0.3));\n",
              "      fill: #FFFFFF;\n",
              "    }\n",
              "  </style>\n",
              "\n",
              "      <script>\n",
              "        const buttonEl =\n",
              "          document.querySelector('#df-3aa0d6a5-54d1-45f6-a1a2-720a4af235dc button.colab-df-convert');\n",
              "        buttonEl.style.display =\n",
              "          google.colab.kernel.accessAllowed ? 'block' : 'none';\n",
              "\n",
              "        async function convertToInteractive(key) {\n",
              "          const element = document.querySelector('#df-3aa0d6a5-54d1-45f6-a1a2-720a4af235dc');\n",
              "          const dataTable =\n",
              "            await google.colab.kernel.invokeFunction('convertToInteractive',\n",
              "                                                     [key], {});\n",
              "          if (!dataTable) return;\n",
              "\n",
              "          const docLinkHtml = 'Like what you see? Visit the ' +\n",
              "            '<a target=\"_blank\" href=https://colab.research.google.com/notebooks/data_table.ipynb>data table notebook</a>'\n",
              "            + ' to learn more about interactive tables.';\n",
              "          element.innerHTML = '';\n",
              "          dataTable['output_type'] = 'display_data';\n",
              "          await google.colab.output.renderOutput(dataTable, element);\n",
              "          const docLink = document.createElement('div');\n",
              "          docLink.innerHTML = docLinkHtml;\n",
              "          element.appendChild(docLink);\n",
              "        }\n",
              "      </script>\n",
              "    </div>\n",
              "  </div>\n",
              "  "
            ],
            "text/plain": [
              "                                                  review sentiment\n",
              "0      One of the other reviewers has mentioned that ...  positive\n",
              "1      A wonderful little production. <br /><br />The...  positive\n",
              "2      I thought this was a wonderful way to spend ti...  positive\n",
              "3      Basically there's a family where a little boy ...  negative\n",
              "4      Petter Mattei's \"Love in the Time of Money\" is...  positive\n",
              "...                                                  ...       ...\n",
              "49995  I thought this movie did a down right good job...  positive\n",
              "49996  Bad plot, bad dialogue, bad acting, idiotic di...  negative\n",
              "49997  I am a Catholic taught in parochial elementary...  negative\n",
              "49998  I'm going to have to disagree with the previou...  negative\n",
              "49999  No one expects the Star Trek movies to be high...  negative\n",
              "\n",
              "[50000 rows x 2 columns]"
            ]
          },
          "metadata": {},
          "execution_count": 3
        }
      ]
    },
    {
      "cell_type": "code",
      "source": [
        "df.describe()"
      ],
      "metadata": {
        "colab": {
          "base_uri": "https://localhost:8080/",
          "height": 170
        },
        "id": "YkDXsanjr02-",
        "outputId": "ac549923-82af-4106-8edd-f6e0cbf13e16"
      },
      "execution_count": 4,
      "outputs": [
        {
          "output_type": "execute_result",
          "data": {
            "text/html": [
              "\n",
              "  <div id=\"df-7cc2cb1c-8754-46d8-88d8-e38f9d5616e2\">\n",
              "    <div class=\"colab-df-container\">\n",
              "      <div>\n",
              "<style scoped>\n",
              "    .dataframe tbody tr th:only-of-type {\n",
              "        vertical-align: middle;\n",
              "    }\n",
              "\n",
              "    .dataframe tbody tr th {\n",
              "        vertical-align: top;\n",
              "    }\n",
              "\n",
              "    .dataframe thead th {\n",
              "        text-align: right;\n",
              "    }\n",
              "</style>\n",
              "<table border=\"1\" class=\"dataframe\">\n",
              "  <thead>\n",
              "    <tr style=\"text-align: right;\">\n",
              "      <th></th>\n",
              "      <th>review</th>\n",
              "      <th>sentiment</th>\n",
              "    </tr>\n",
              "  </thead>\n",
              "  <tbody>\n",
              "    <tr>\n",
              "      <th>count</th>\n",
              "      <td>50000</td>\n",
              "      <td>50000</td>\n",
              "    </tr>\n",
              "    <tr>\n",
              "      <th>unique</th>\n",
              "      <td>49582</td>\n",
              "      <td>2</td>\n",
              "    </tr>\n",
              "    <tr>\n",
              "      <th>top</th>\n",
              "      <td>Loved today's show!!! It was a variety and not...</td>\n",
              "      <td>negative</td>\n",
              "    </tr>\n",
              "    <tr>\n",
              "      <th>freq</th>\n",
              "      <td>5</td>\n",
              "      <td>25000</td>\n",
              "    </tr>\n",
              "  </tbody>\n",
              "</table>\n",
              "</div>\n",
              "      <button class=\"colab-df-convert\" onclick=\"convertToInteractive('df-7cc2cb1c-8754-46d8-88d8-e38f9d5616e2')\"\n",
              "              title=\"Convert this dataframe to an interactive table.\"\n",
              "              style=\"display:none;\">\n",
              "        \n",
              "  <svg xmlns=\"http://www.w3.org/2000/svg\" height=\"24px\"viewBox=\"0 0 24 24\"\n",
              "       width=\"24px\">\n",
              "    <path d=\"M0 0h24v24H0V0z\" fill=\"none\"/>\n",
              "    <path d=\"M18.56 5.44l.94 2.06.94-2.06 2.06-.94-2.06-.94-.94-2.06-.94 2.06-2.06.94zm-11 1L8.5 8.5l.94-2.06 2.06-.94-2.06-.94L8.5 2.5l-.94 2.06-2.06.94zm10 10l.94 2.06.94-2.06 2.06-.94-2.06-.94-.94-2.06-.94 2.06-2.06.94z\"/><path d=\"M17.41 7.96l-1.37-1.37c-.4-.4-.92-.59-1.43-.59-.52 0-1.04.2-1.43.59L10.3 9.45l-7.72 7.72c-.78.78-.78 2.05 0 2.83L4 21.41c.39.39.9.59 1.41.59.51 0 1.02-.2 1.41-.59l7.78-7.78 2.81-2.81c.8-.78.8-2.07 0-2.86zM5.41 20L4 18.59l7.72-7.72 1.47 1.35L5.41 20z\"/>\n",
              "  </svg>\n",
              "      </button>\n",
              "      \n",
              "  <style>\n",
              "    .colab-df-container {\n",
              "      display:flex;\n",
              "      flex-wrap:wrap;\n",
              "      gap: 12px;\n",
              "    }\n",
              "\n",
              "    .colab-df-convert {\n",
              "      background-color: #E8F0FE;\n",
              "      border: none;\n",
              "      border-radius: 50%;\n",
              "      cursor: pointer;\n",
              "      display: none;\n",
              "      fill: #1967D2;\n",
              "      height: 32px;\n",
              "      padding: 0 0 0 0;\n",
              "      width: 32px;\n",
              "    }\n",
              "\n",
              "    .colab-df-convert:hover {\n",
              "      background-color: #E2EBFA;\n",
              "      box-shadow: 0px 1px 2px rgba(60, 64, 67, 0.3), 0px 1px 3px 1px rgba(60, 64, 67, 0.15);\n",
              "      fill: #174EA6;\n",
              "    }\n",
              "\n",
              "    [theme=dark] .colab-df-convert {\n",
              "      background-color: #3B4455;\n",
              "      fill: #D2E3FC;\n",
              "    }\n",
              "\n",
              "    [theme=dark] .colab-df-convert:hover {\n",
              "      background-color: #434B5C;\n",
              "      box-shadow: 0px 1px 3px 1px rgba(0, 0, 0, 0.15);\n",
              "      filter: drop-shadow(0px 1px 2px rgba(0, 0, 0, 0.3));\n",
              "      fill: #FFFFFF;\n",
              "    }\n",
              "  </style>\n",
              "\n",
              "      <script>\n",
              "        const buttonEl =\n",
              "          document.querySelector('#df-7cc2cb1c-8754-46d8-88d8-e38f9d5616e2 button.colab-df-convert');\n",
              "        buttonEl.style.display =\n",
              "          google.colab.kernel.accessAllowed ? 'block' : 'none';\n",
              "\n",
              "        async function convertToInteractive(key) {\n",
              "          const element = document.querySelector('#df-7cc2cb1c-8754-46d8-88d8-e38f9d5616e2');\n",
              "          const dataTable =\n",
              "            await google.colab.kernel.invokeFunction('convertToInteractive',\n",
              "                                                     [key], {});\n",
              "          if (!dataTable) return;\n",
              "\n",
              "          const docLinkHtml = 'Like what you see? Visit the ' +\n",
              "            '<a target=\"_blank\" href=https://colab.research.google.com/notebooks/data_table.ipynb>data table notebook</a>'\n",
              "            + ' to learn more about interactive tables.';\n",
              "          element.innerHTML = '';\n",
              "          dataTable['output_type'] = 'display_data';\n",
              "          await google.colab.output.renderOutput(dataTable, element);\n",
              "          const docLink = document.createElement('div');\n",
              "          docLink.innerHTML = docLinkHtml;\n",
              "          element.appendChild(docLink);\n",
              "        }\n",
              "      </script>\n",
              "    </div>\n",
              "  </div>\n",
              "  "
            ],
            "text/plain": [
              "                                                   review sentiment\n",
              "count                                               50000     50000\n",
              "unique                                              49582         2\n",
              "top     Loved today's show!!! It was a variety and not...  negative\n",
              "freq                                                    5     25000"
            ]
          },
          "metadata": {},
          "execution_count": 4
        }
      ]
    },
    {
      "cell_type": "markdown",
      "metadata": {
        "_uuid": "90da29c3b79f46f41d7391a2a116065b616d0fac",
        "id": "fgqSyny-c9k6"
      },
      "source": [
        "**Text normalization**"
      ]
    },
    {
      "cell_type": "code",
      "source": [
        "#Tokenization of text\n",
        "tokenizer=ToktokTokenizer()\n",
        "#Setting English stopwords\n",
        "nltk.download('stopwords')\n",
        "stopword_list=nltk.corpus.stopwords.words('english')\n",
        "\n",
        "#Removing the html strips\n",
        "def strip_html(text):\n",
        "    soup = BeautifulSoup(text, \"html.parser\")\n",
        "    return soup.get_text()\n",
        "\n",
        "#Removing the square brackets\n",
        "def remove_between_square_brackets(text):\n",
        "    return re.sub('\\[[^]]*\\]', '', text)\n",
        "\n",
        "#Removing the noisy text\n",
        "def denoise_text(text):\n",
        "    text = strip_html(text)\n",
        "    text = remove_between_square_brackets(text)\n",
        "    return text\n",
        "#Apply function on review column\n",
        "df['review']=df['review'].apply(denoise_text)"
      ],
      "metadata": {
        "colab": {
          "base_uri": "https://localhost:8080/"
        },
        "id": "nEjHZ2xrr2pi",
        "outputId": "fa94cd85-a4bf-4593-944e-b89498d96de7"
      },
      "execution_count": 5,
      "outputs": [
        {
          "output_type": "stream",
          "name": "stdout",
          "text": [
            "[nltk_data] Downloading package stopwords to /root/nltk_data...\n",
            "[nltk_data]   Unzipping corpora/stopwords.zip.\n"
          ]
        }
      ]
    },
    {
      "cell_type": "markdown",
      "metadata": {
        "_uuid": "88117b74761d1047924d6d70f76642faa0e706ac",
        "id": "TN2dIwTxc9k8"
      },
      "source": [
        "**Removing special characters**"
      ]
    },
    {
      "cell_type": "code",
      "source": [
        "#function for removing special characters\n",
        "def remove_special_characters(text, remove_digits=True):\n",
        "    pattern=r'[^a-zA-z0-9\\s]'\n",
        "    text=re.sub(pattern,'',text)\n",
        "    return text\n",
        "#function on review column\n",
        "df['review']=df['review'].apply(remove_special_characters)"
      ],
      "metadata": {
        "id": "BaPGW1YQr29n"
      },
      "execution_count": 6,
      "outputs": []
    },
    {
      "cell_type": "code",
      "source": [
        "#Stemming the text\n",
        "def simple_stemmer(text):\n",
        "    ps=nltk.porter.PorterStemmer()\n",
        "    text= ' '.join([ps.stem(word) for word in text.split()])\n",
        "    return text\n",
        "#Apply function on review column\n",
        "df['review']=df['review'].apply(simple_stemmer)"
      ],
      "metadata": {
        "id": "d2JWZH4-r3L7"
      },
      "execution_count": null,
      "outputs": []
    },
    {
      "cell_type": "code",
      "source": [
        "#set stopwords to english\n",
        "stop=set(stopwords.words('english'))\n",
        "print(stop)\n",
        "\n",
        "#removing the stopwords\n",
        "def remove_stopwords(text, is_lower_case=False):\n",
        "    tokens = tokenizer.tokenize(text)\n",
        "    tokens = [token.strip() for token in tokens]\n",
        "    if is_lower_case:\n",
        "        filtered_tokens = [token for token in tokens if token not in stopword_list]\n",
        "    else:\n",
        "        filtered_tokens = [token for token in tokens if token.lower() not in stopword_list]\n",
        "    filtered_text = ' '.join(filtered_tokens)    \n",
        "    return filtered_text\n",
        "#Apply function on review column\n",
        "df['review']=df['review'].apply(remove_stopwords)"
      ],
      "metadata": {
        "colab": {
          "base_uri": "https://localhost:8080/"
        },
        "id": "7It_WSItr3Vp",
        "outputId": "172f8f32-d277-4dc9-8d1b-9fc9309d3e10"
      },
      "execution_count": 7,
      "outputs": [
        {
          "output_type": "stream",
          "name": "stdout",
          "text": [
            "{'most', 'if', 'other', 'ours', 'i', 'against', 'of', 'ain', 'about', 'own', \"weren't\", \"couldn't\", 'how', 'because', 'will', \"isn't\", 'll', 'were', 'both', 'he', 'your', 'hadn', 'who', 'o', 'just', 'm', 'this', 'during', 'as', 'from', 'yourselves', \"should've\", 'isn', 'is', 'yours', 'what', 'for', 'where', 'and', 'mightn', 'through', 'my', 'now', 'y', 'when', 'it', 'before', 'in', 'some', 'but', 'that', \"don't\", 'wasn', 'weren', 'very', 'they', 'having', 'again', 'only', 'ma', 'haven', \"that'll\", 'once', \"aren't\", \"mightn't\", 'into', 'didn', 'an', 't', \"you'll\", 'whom', 'yourself', 'shan', 'myself', 'itself', 'their', 'up', \"shouldn't\", 'then', 'can', 'by', 'which', 'these', \"wouldn't\", 'theirs', 'its', 've', \"it's\", 'me', 'hers', 'no', 'himself', 'more', 'such', \"won't\", \"didn't\", \"needn't\", \"hadn't\", 'further', 'am', 'too', 'being', 'aren', 'each', 'doesn', 'with', 'had', 'so', 'nor', \"shan't\", 'have', 'doing', 'above', 'off', 'couldn', 'wouldn', 'should', \"hasn't\", 'on', 'below', 'been', 'down', 'any', 'our', 'than', 'mustn', 'themselves', 'do', 'does', 'over', \"haven't\", 'shouldn', 'him', 'd', 'has', 'or', 'the', 'her', 'after', 'ourselves', 'needn', 'them', \"you'd\", 'few', 's', 'don', 'are', 'same', 'herself', 'those', 'all', 'a', 'not', 'while', 'his', \"she's\", 'there', \"mustn't\", 'here', \"you've\", 'hasn', 'you', 'between', 'out', 'to', 'be', 'did', 'at', 'under', 're', 'won', 'we', 'she', 'was', 'why', 'until', \"wasn't\", \"doesn't\", \"you're\"}\n"
          ]
        }
      ]
    },
    {
      "cell_type": "code",
      "source": [
        "#Count vectorizer for bag of words\n",
        "y=np.array(df.sentiment.values)\n",
        "cv=CountVectorizer(max_features=1000)\n",
        "#transformed train reviews\n",
        "x=cv.fit_transform(df.review).toarray()\n",
        "print(x.shape,y.shape)\n"
      ],
      "metadata": {
        "id": "F6nDamipr3jF",
        "colab": {
          "base_uri": "https://localhost:8080/"
        },
        "outputId": "13c3eaa8-7171-4c5a-eac0-855a0d7bed73"
      },
      "execution_count": 8,
      "outputs": [
        {
          "output_type": "stream",
          "name": "stdout",
          "text": [
            "(50000, 1000) (50000,)\n"
          ]
        }
      ]
    },
    {
      "cell_type": "code",
      "source": [
        "from sklearn.feature_extraction.text import CountVectorizer\n",
        "from sklearn.feature_extraction.text import TfidfVectorizer\n",
        "from sklearn.model_selection import train_test_split\n",
        "from sklearn.metrics import accuracy_score, classification_report\n",
        "from sklearn.metrics import confusion_matrix\n",
        "\n",
        "xtrain, xtest, ytrain, ytest=train_test_split(x, y, test_size=0.3, random_state=123)\n",
        "print(xtrain.shape,xtest.shape, ytrain.shape,ytest.shape)"
      ],
      "metadata": {
        "colab": {
          "base_uri": "https://localhost:8080/"
        },
        "id": "muv1iP14k9QS",
        "outputId": "31ac6016-5e19-4bb5-dc32-bc20c8bb8379"
      },
      "execution_count": 9,
      "outputs": [
        {
          "output_type": "stream",
          "name": "stdout",
          "text": [
            "(35000, 1000) (15000, 1000) (35000,) (15000,)\n"
          ]
        }
      ]
    },
    {
      "cell_type": "code",
      "source": [
        "word_frequency = pd.Series(' '.join(df['review']).split()).value_counts()\n",
        "print(word_frequency)"
      ],
      "metadata": {
        "colab": {
          "base_uri": "https://localhost:8080/"
        },
        "id": "Djxka4rEr3ot",
        "outputId": "f41408bc-d312-48bd-8629-7238b52dd707"
      },
      "execution_count": 10,
      "outputs": [
        {
          "output_type": "stream",
          "name": "stdout",
          "text": [
            "movie                82310\n",
            "film                 73514\n",
            "one                  46301\n",
            "like                 37483\n",
            "good                 27403\n",
            "                     ...  \n",
            "Texture                  1\n",
            "cinema10                 1\n",
            "ICET                     1\n",
            "deathMany                1\n",
            "differentWatching        1\n",
            "Length: 256143, dtype: int64\n"
          ]
        }
      ]
    },
    {
      "cell_type": "code",
      "source": [
        "from PIL import Image\n",
        "from wordcloud import WordCloud\n",
        "corpus = list(df['review'])\n",
        "\n",
        "wordcloud = WordCloud(background_color='white', max_words=200, max_font_size=50, random_state=42).generate(str(corpus))\n",
        "\n",
        "fig = plt.figure(1)\n",
        "plt.imshow(wordcloud)\n",
        "plt.axis('off')\n",
        "plt.show()"
      ],
      "metadata": {
        "id": "FQ8Dnc6dr3te",
        "colab": {
          "base_uri": "https://localhost:8080/",
          "height": 197
        },
        "outputId": "8712d18f-1fe8-4050-c476-58b68469ac03"
      },
      "execution_count": 11,
      "outputs": [
        {
          "output_type": "display_data",
          "data": {
            "image/png": "[encoded data removed]",
            "text/plain": [
              "<Figure size 432x288 with 1 Axes>"
            ]
          },
          "metadata": {
            "needs_background": "light"
          }
        }
      ]
    },
    {
      "cell_type": "markdown",
      "metadata": {
        "_uuid": "803e92b25faa738b10928a91de72d177d8dddf85",
        "id": "PdFr3_Isc9lD"
      },
      "source": [
        "**SVM** **technique**"
      ]
    },
    {
      "cell_type": "code",
      "source": [
        "from sklearn.ensemble import RandomForestClassifier\n",
        "from sklearn.naive_bayes import MultinomialNB\n",
        "sv=SVC()                                    #SupportVectorClassifier\n",
        "rf=RandomForestClassifier()                 #RandomForestClassifier\n"
      ],
      "metadata": {
        "id": "ox_MPYvreXvv"
      },
      "execution_count": 12,
      "outputs": []
    },
    {
      "cell_type": "code",
      "source": [
        "\n",
        "rf.fit(xtrain, ytrain)"
      ],
      "metadata": {
        "colab": {
          "base_uri": "https://localhost:8080/"
        },
        "id": "Kl268LLUehZx",
        "outputId": "39539b43-3942-4468-f22e-8c1647f78064"
      },
      "execution_count": 13,
      "outputs": [
        {
          "output_type": "execute_result",
          "data": {
            "text/plain": [
              "RandomForestClassifier()"
            ]
          },
          "metadata": {},
          "execution_count": 13
        }
      ]
    },
    {
      "cell_type": "code",
      "source": [
        "predict_rf=rf.predict(xtest)\n",
        "#predict_mn=mn.predict(xtest)"
      ],
      "metadata": {
        "id": "3Uj_hBQOek6q"
      },
      "execution_count": 14,
      "outputs": []
    },
    {
      "cell_type": "code",
      "source": [
        "rf_score=accuracy_score(ytest,predict_rf)\n",
        "print(\"svm_score :\",rf_score)\n",
        "print(\"--Accuracy-->\", accuracy_score(ytest,predict_rf))\n",
        "print(\"--ConfuMat-->\\n\",\"\\n\",confusion_matrix(ytest,predict_rf))\n",
        "print(\"\\n--ClassRep-->\\n\",\"\\n\", classification_report(ytest,predict_rf))\n",
        "    "
      ],
      "metadata": {
        "colab": {
          "base_uri": "https://localhost:8080/"
        },
        "id": "m2lSBYJxenLy",
        "outputId": "62ef8d27-7312-4b20-a694-8b43aa27743b"
      },
      "execution_count": 15,
      "outputs": [
        {
          "output_type": "stream",
          "name": "stdout",
          "text": [
            "svm_score : 0.8303333333333334\n",
            "--Accuracy--> 0.8303333333333334\n",
            "--ConfuMat-->\n",
            " \n",
            " [[6222 1247]\n",
            " [1298 6233]]\n",
            "\n",
            "--ClassRep-->\n",
            " \n",
            "               precision    recall  f1-score   support\n",
            "\n",
            "    negative       0.83      0.83      0.83      7469\n",
            "    positive       0.83      0.83      0.83      7531\n",
            "\n",
            "    accuracy                           0.83     15000\n",
            "   macro avg       0.83      0.83      0.83     15000\n",
            "weighted avg       0.83      0.83      0.83     15000\n",
            "\n"
          ]
        }
      ]
    },
    {
      "cell_type": "code",
      "source": [
        "x_train, x_test, y_train, y_test=train_test_split(x, y, test_size=0.3, random_state=29)\n",
        "print(x_train.shape,x_test.shape, y_train.shape,ytest.shape)"
      ],
      "metadata": {
        "colab": {
          "base_uri": "https://localhost:8080/"
        },
        "id": "dXgHeaNRFrbK",
        "outputId": "8b8ea6cb-fdb3-411e-c599-2c1b56abbbdb"
      },
      "execution_count": 16,
      "outputs": [
        {
          "output_type": "stream",
          "name": "stdout",
          "text": [
            "(35000, 1000) (15000, 1000) (35000,) (15000,)\n"
          ]
        }
      ]
    },
    {
      "cell_type": "code",
      "source": [
        "                              \n",
        "rf=RandomForestClassifier()                 #RandomForestClassifier\n",
        "\n",
        "rf.fit(x_train, y_train)\n",
        "predict_rf=rf.predict(x_test)\n",
        "rf_score=accuracy_score(y_test,predict_rf)\n",
        "print(\"svm_score :\",rf_score)\n",
        "print(\"--Accuracy-->\", accuracy_score(y_test,predict_rf))\n",
        "print(\"--ConfuMat-->\\n\",\"\\n\",confusion_matrix(y_test,predict_rf))\n",
        "print(\"\\n--ClassRep-->\\n\",\"\\n\", classification_report(y_test,predict_rf))\n"
      ],
      "metadata": {
        "colab": {
          "base_uri": "https://localhost:8080/"
        },
        "id": "yep2WjqBHw3w",
        "outputId": "6533561c-172f-4548-e7c3-8e7cb6b676fa"
      },
      "execution_count": 18,
      "outputs": [
        {
          "output_type": "stream",
          "name": "stdout",
          "text": [
            "svm_score : 0.826\n",
            "--Accuracy--> 0.826\n",
            "--ConfuMat-->\n",
            " \n",
            " [[6191 1334]\n",
            " [1276 6199]]\n",
            "\n",
            "--ClassRep-->\n",
            " \n",
            "               precision    recall  f1-score   support\n",
            "\n",
            "    negative       0.83      0.82      0.83      7525\n",
            "    positive       0.82      0.83      0.83      7475\n",
            "\n",
            "    accuracy                           0.83     15000\n",
            "   macro avg       0.83      0.83      0.83     15000\n",
            "weighted avg       0.83      0.83      0.83     15000\n",
            "\n"
          ]
        }
      ]
    },
    {
      "cell_type": "code",
      "source": [
        "x_train, x_test, y_train, y_test=train_test_split(x, y, test_size=0.3, random_state=1)\n",
        "print(x_train.shape,x_test.shape, y_train.shape,y_test.shape)"
      ],
      "metadata": {
        "colab": {
          "base_uri": "https://localhost:8080/"
        },
        "id": "nunRAvSSHxVl",
        "outputId": "9665e57b-d0e6-4306-8d49-020165c9f9c2"
      },
      "execution_count": 19,
      "outputs": [
        {
          "output_type": "stream",
          "name": "stdout",
          "text": [
            "(35000, 1000) (15000, 1000) (35000,) (15000,)\n"
          ]
        }
      ]
    },
    {
      "cell_type": "code",
      "source": [
        "                             \n",
        "rf=RandomForestClassifier()                 #RandomForestClassifier\n",
        "\n",
        "rf.fit(x_train, y_train)\n",
        "predict_rf=rf.predict(x_test)\n",
        "rf_score=accuracy_score(y_test,predict_rf)\n",
        "print(\"svm_score :\",rf_score)\n",
        "print(\"--Accuracy-->\", accuracy_score(y_test,predict_rf))\n",
        "print(\"--ConfuMat-->\\n\",\"\\n\",confusion_matrix(y_test,predict_rf))\n",
        "print(\"\\n--ClassRep-->\\n\",\"\\n\", classification_report(y_test,predict_rf))"
      ],
      "metadata": {
        "colab": {
          "base_uri": "https://localhost:8080/"
        },
        "id": "3ZTWvVnvHxnR",
        "outputId": "35849453-b544-4072-ceac-18681a8cd720"
      },
      "execution_count": 20,
      "outputs": [
        {
          "output_type": "stream",
          "name": "stdout",
          "text": [
            "svm_score : 0.8282\n",
            "--Accuracy--> 0.8282\n",
            "--ConfuMat-->\n",
            " \n",
            " [[6222 1299]\n",
            " [1278 6201]]\n",
            "\n",
            "--ClassRep-->\n",
            " \n",
            "               precision    recall  f1-score   support\n",
            "\n",
            "    negative       0.83      0.83      0.83      7521\n",
            "    positive       0.83      0.83      0.83      7479\n",
            "\n",
            "    accuracy                           0.83     15000\n",
            "   macro avg       0.83      0.83      0.83     15000\n",
            "weighted avg       0.83      0.83      0.83     15000\n",
            "\n"
          ]
        }
      ]
    },
    {
      "cell_type": "markdown",
      "metadata": {
        "id": "iulYgcGNc9lE"
      },
      "source": [
        "**Linear regression Modelling the dataset**"
      ]
    },
    {
      "cell_type": "code",
      "source": [
        "#training the model\n",
        "\n",
        "lr=LogisticRegression(penalty='l2',max_iter=500,C=1,random_state=42,solver='lbfgs')\n",
        "#Fitting the model for Bag of words\n",
        "lr_bow=lr.fit(xtrain,ytrain)\n",
        "print(lr_bow)\n"
      ],
      "metadata": {
        "colab": {
          "base_uri": "https://localhost:8080/"
        },
        "id": "SRYENP57r39A",
        "outputId": "d6df4348-0c4e-4ba0-b17a-b6eb27fafaad"
      },
      "execution_count": 21,
      "outputs": [
        {
          "output_type": "stream",
          "name": "stdout",
          "text": [
            "LogisticRegression(C=1, max_iter=500, random_state=42)\n"
          ]
        }
      ]
    },
    {
      "cell_type": "markdown",
      "metadata": {
        "_uuid": "07eb6d52eb32469e3be82e90af636d598a7b7c27",
        "id": "ZZOtQlQuc9lF"
      },
      "source": [
        "**Logistic regression model performane on test dataset**"
      ]
    },
    {
      "cell_type": "code",
      "source": [
        "#Predicting the model for bag of words\n",
        "lr_predict=lr.predict(xtest)\n",
        "print(lr_predict)\n"
      ],
      "metadata": {
        "colab": {
          "base_uri": "https://localhost:8080/"
        },
        "id": "RVc4GWd0r4Ak",
        "outputId": "b09d3936-809d-48d4-9062-e8952bb25af5"
      },
      "execution_count": 22,
      "outputs": [
        {
          "output_type": "stream",
          "name": "stdout",
          "text": [
            "['negative' 'positive' 'positive' ... 'positive' 'negative' 'negative']\n"
          ]
        }
      ]
    },
    {
      "cell_type": "code",
      "source": [
        "#Accuracy score for bag of words\n",
        "lr_bow_score=accuracy_score(ytest,lr_predict)\n",
        "print(\"lr_bow_score :\",lr_bow_score)\n"
      ],
      "metadata": {
        "colab": {
          "base_uri": "https://localhost:8080/"
        },
        "id": "eDhF5TZ_r4Ec",
        "outputId": "efc53d64-7278-4340-f76f-d7fd3b02ea31"
      },
      "execution_count": 23,
      "outputs": [
        {
          "output_type": "stream",
          "name": "stdout",
          "text": [
            "lr_bow_score : 0.8560666666666666\n"
          ]
        }
      ]
    },
    {
      "cell_type": "code",
      "source": [
        "#Classification report for bag of words \n",
        "print(\"--Accuracy-->\", accuracy_score(ytest,lr_predict))\n",
        "print(\"--ConfuMat-->\\n\",\"\\n\",confusion_matrix(ytest,lr_predict))\n",
        "print(\"\\n--ClassRep-->\\n\",\"\\n\", classification_report(ytest,lr_predict))"
      ],
      "metadata": {
        "colab": {
          "base_uri": "https://localhost:8080/"
        },
        "id": "tg9FNV-Qr4Hh",
        "outputId": "e8d5d696-2af1-4e09-b891-85eea5dc66c1"
      },
      "execution_count": 24,
      "outputs": [
        {
          "output_type": "stream",
          "name": "stdout",
          "text": [
            "--Accuracy--> 0.8560666666666666\n",
            "--ConfuMat-->\n",
            " \n",
            " [[6311 1158]\n",
            " [1001 6530]]\n",
            "\n",
            "--ClassRep-->\n",
            " \n",
            "               precision    recall  f1-score   support\n",
            "\n",
            "    negative       0.86      0.84      0.85      7469\n",
            "    positive       0.85      0.87      0.86      7531\n",
            "\n",
            "    accuracy                           0.86     15000\n",
            "   macro avg       0.86      0.86      0.86     15000\n",
            "weighted avg       0.86      0.86      0.86     15000\n",
            "\n"
          ]
        }
      ]
    },
    {
      "cell_type": "code",
      "source": [
        "#training the model\n",
        "lr=LogisticRegression(penalty='l2',max_iter=500,random_state=29,C=1,solver='lbfgs')\n",
        "#Fitting the model for Bag of words\n",
        "lr_bow=lr.fit(xtrain,ytrain)\n",
        "lr_bow_score=accuracy_score(ytest,lr_predict)\n",
        "print(\"lr_bow_score :\",lr_bow_score)\n",
        "print(\"--Accuracy-->\", accuracy_score(ytest,lr_predict))\n",
        "print(\"--ConfuMat-->\\n\",\"\\n\",confusion_matrix(ytest,lr_predict))\n",
        "print(\"\\n--ClassRep-->\\n\",\"\\n\", classification_report(ytest,lr_predict))\n"
      ],
      "metadata": {
        "colab": {
          "base_uri": "https://localhost:8080/"
        },
        "id": "x1E66VxZJAju",
        "outputId": "5a7ada55-df9e-4808-f69b-a71cf00f573a"
      },
      "execution_count": 36,
      "outputs": [
        {
          "output_type": "stream",
          "name": "stdout",
          "text": [
            "lr_bow_score : 0.8560666666666666\n",
            "--Accuracy--> 0.8560666666666666\n",
            "--ConfuMat-->\n",
            " \n",
            " [[6311 1158]\n",
            " [1001 6530]]\n",
            "\n",
            "--ClassRep-->\n",
            " \n",
            "               precision    recall  f1-score   support\n",
            "\n",
            "    negative       0.86      0.84      0.85      7469\n",
            "    positive       0.85      0.87      0.86      7531\n",
            "\n",
            "    accuracy                           0.86     15000\n",
            "   macro avg       0.86      0.86      0.86     15000\n",
            "weighted avg       0.86      0.86      0.86     15000\n",
            "\n"
          ]
        }
      ]
    },
    {
      "cell_type": "code",
      "source": [
        "#training the model\n",
        "lr=LogisticRegression(penalty='l2',max_iter=200,random_state=129)\n",
        "#Fitting the model for Bag of words\n",
        "lr_bow=lr.fit(xtrain,ytrain)\n",
        "lr_bow_score=accuracy_score(ytest,lr_predict)\n",
        "print(\"lr_bow_score :\",lr_bow_score)\n",
        "print(\"--Accuracy-->\", accuracy_score(ytest,lr_predict))\n",
        "print(\"--ConfuMat-->\\n\",\"\\n\",confusion_matrix(ytest,lr_predict))\n",
        "print(\"\\n--ClassRep-->\\n\",\"\\n\", classification_report(ytest,lr_predict))"
      ],
      "metadata": {
        "colab": {
          "base_uri": "https://localhost:8080/"
        },
        "id": "dFUozVGlJALk",
        "outputId": "34b9bc05-d31c-4fb6-96c6-83538c710c98"
      },
      "execution_count": 37,
      "outputs": [
        {
          "output_type": "stream",
          "name": "stdout",
          "text": [
            "lr_bow_score : 0.8560666666666666\n",
            "--Accuracy--> 0.8560666666666666\n",
            "--ConfuMat-->\n",
            " \n",
            " [[6311 1158]\n",
            " [1001 6530]]\n",
            "\n",
            "--ClassRep-->\n",
            " \n",
            "               precision    recall  f1-score   support\n",
            "\n",
            "    negative       0.86      0.84      0.85      7469\n",
            "    positive       0.85      0.87      0.86      7531\n",
            "\n",
            "    accuracy                           0.86     15000\n",
            "   macro avg       0.86      0.86      0.86     15000\n",
            "weighted avg       0.86      0.86      0.86     15000\n",
            "\n"
          ]
        }
      ]
    },
    {
      "cell_type": "markdown",
      "metadata": {
        "id": "IXQuVU06c9lK"
      },
      "source": [
        "**Multinomial Naive Bayes for bag of words and tfidf features**"
      ]
    },
    {
      "cell_type": "code",
      "source": [
        "#training the model\n",
        "Nb=MultinomialNB()\n",
        "#fitting the svm for bag of words\n",
        "Nb_bow=Nb.fit(xtrain,ytrain)\n",
        "print(Nb_bow)\n"
      ],
      "metadata": {
        "colab": {
          "base_uri": "https://localhost:8080/"
        },
        "id": "VTCPpSGQr4PD",
        "outputId": "c3d67170-de0c-441b-f171-c7242c32e065"
      },
      "execution_count": 38,
      "outputs": [
        {
          "output_type": "stream",
          "name": "stdout",
          "text": [
            "MultinomialNB()\n"
          ]
        }
      ]
    },
    {
      "cell_type": "code",
      "source": [
        "#Predicting the model for bag of words\n",
        "nb_predict=Nb.predict(xtest)\n",
        "print(nb_predict)"
      ],
      "metadata": {
        "colab": {
          "base_uri": "https://localhost:8080/"
        },
        "id": "lhMw6Qacr4Sf",
        "outputId": "b585a2dd-6958-40a2-e6e0-2825eeb9224b"
      },
      "execution_count": 39,
      "outputs": [
        {
          "output_type": "stream",
          "name": "stdout",
          "text": [
            "['negative' 'positive' 'positive' ... 'positive' 'positive' 'negative']\n"
          ]
        }
      ]
    },
    {
      "cell_type": "code",
      "source": [
        "#Accuracy score for bag of words\n",
        "nb_score=accuracy_score(ytest,nb_predict)\n",
        "print(\"nb_score :\",nb_score)"
      ],
      "metadata": {
        "colab": {
          "base_uri": "https://localhost:8080/"
        },
        "id": "EmcU6OCXr4U9",
        "outputId": "a8d1c9c3-5f92-4e91-ee60-8082706b959b"
      },
      "execution_count": 40,
      "outputs": [
        {
          "output_type": "stream",
          "name": "stdout",
          "text": [
            "nb_score : 0.8278\n"
          ]
        }
      ]
    },
    {
      "cell_type": "code",
      "source": [
        "print(\"--Accuracy-->\", accuracy_score(ytest,nb_predict))\n",
        "print(\"--ConfuMat-->\\n\",\"\\n\",confusion_matrix(ytest,nb_predict))\n",
        "print(\"\\n--ClassRep-->\\n\",\"\\n\", classification_report(ytest,nb_predict))"
      ],
      "metadata": {
        "colab": {
          "base_uri": "https://localhost:8080/"
        },
        "id": "_fMH_-pzwCTk",
        "outputId": "ed88ad65-425f-46be-b8b7-7a34d93cc66c"
      },
      "execution_count": 41,
      "outputs": [
        {
          "output_type": "stream",
          "name": "stdout",
          "text": [
            "--Accuracy--> 0.8278\n",
            "--ConfuMat-->\n",
            " \n",
            " [[6133 1336]\n",
            " [1247 6284]]\n",
            "\n",
            "--ClassRep-->\n",
            " \n",
            "               precision    recall  f1-score   support\n",
            "\n",
            "    negative       0.83      0.82      0.83      7469\n",
            "    positive       0.82      0.83      0.83      7531\n",
            "\n",
            "    accuracy                           0.83     15000\n",
            "   macro avg       0.83      0.83      0.83     15000\n",
            "weighted avg       0.83      0.83      0.83     15000\n",
            "\n"
          ]
        }
      ]
    },
    {
      "cell_type": "code",
      "source": [
        "x_train, x_test, y_train, y_test=train_test_split(x, y, test_size=0.3, random_state=1)\n",
        "print(x_train.shape,x_test.shape, y_train.shape,y_test.shape)\n",
        "Nb=MultinomialNB()\n",
        "#fitting the svm for bag of words\n",
        "Nb_bow=Nb.fit(x_train,y_train)\n",
        "nb_predict=Nb.predict(x_test)\n",
        "nb_score=accuracy_score(y_test,nb_predict)\n",
        "print(\"nb_score :\",nb_score)\n",
        "print(\"--Accuracy-->\", accuracy_score(y_test,nb_predict))\n",
        "print(\"--ConfuMat-->\\n\",\"\\n\",confusion_matrix(y_test,nb_predict))\n",
        "print(\"\\n--ClassRep-->\\n\",\"\\n\", classification_report(y_test,nb_predict))\n"
      ],
      "metadata": {
        "colab": {
          "base_uri": "https://localhost:8080/"
        },
        "id": "D1R1VfhvK3vG",
        "outputId": "d5d05cee-b31a-4b97-9765-915fd7023721"
      },
      "execution_count": 44,
      "outputs": [
        {
          "output_type": "stream",
          "name": "stdout",
          "text": [
            "(35000, 1000) (15000, 1000) (35000,) (15000,)\n",
            "nb_score : 0.8294666666666667\n",
            "--Accuracy--> 0.8294666666666667\n",
            "--ConfuMat-->\n",
            " \n",
            " [[6177 1344]\n",
            " [1214 6265]]\n",
            "\n",
            "--ClassRep-->\n",
            " \n",
            "               precision    recall  f1-score   support\n",
            "\n",
            "    negative       0.84      0.82      0.83      7521\n",
            "    positive       0.82      0.84      0.83      7479\n",
            "\n",
            "    accuracy                           0.83     15000\n",
            "   macro avg       0.83      0.83      0.83     15000\n",
            "weighted avg       0.83      0.83      0.83     15000\n",
            "\n"
          ]
        }
      ]
    },
    {
      "cell_type": "code",
      "source": [
        "x_train, x_test, y_train, y_test=train_test_split(x, y, test_size=0.3, random_state=129)\n",
        "print(x_train.shape,x_test.shape, y_train.shape,y_test.shape)\n",
        "Nb=MultinomialNB()\n",
        "#fitting the svm for bag of words\n",
        "Nb_bow=Nb.fit(x_train,y_train)\n",
        "nb_predict=Nb.predict(x_test)\n",
        "nb_score=accuracy_score(y_test,nb_predict)\n",
        "print(\"nb_score :\",nb_score)\n",
        "print(\"--Accuracy-->\", accuracy_score(y_test,nb_predict))\n",
        "print(\"--ConfuMat-->\\n\",\"\\n\",confusion_matrix(y_test,nb_predict))\n",
        "print(\"\\n--ClassRep-->\\n\",\"\\n\", classification_report(y_test,nb_predict))"
      ],
      "metadata": {
        "colab": {
          "base_uri": "https://localhost:8080/"
        },
        "id": "_-oinxjBK4Ym",
        "outputId": "1e11dc1b-fe2b-4c5c-d3ea-8bf1c15a1c84"
      },
      "execution_count": 45,
      "outputs": [
        {
          "output_type": "stream",
          "name": "stdout",
          "text": [
            "(35000, 1000) (15000, 1000) (35000,) (15000,)\n",
            "nb_score : 0.8311333333333333\n",
            "--Accuracy--> 0.8311333333333333\n",
            "--ConfuMat-->\n",
            " \n",
            " [[6282 1321]\n",
            " [1212 6185]]\n",
            "\n",
            "--ClassRep-->\n",
            " \n",
            "               precision    recall  f1-score   support\n",
            "\n",
            "    negative       0.84      0.83      0.83      7603\n",
            "    positive       0.82      0.84      0.83      7397\n",
            "\n",
            "    accuracy                           0.83     15000\n",
            "   macro avg       0.83      0.83      0.83     15000\n",
            "weighted avg       0.83      0.83      0.83     15000\n",
            "\n"
          ]
        }
      ]
    },
    {
      "cell_type": "code",
      "source": [
        "x_train, x_test, y_train, y_test=train_test_split(x, y, test_size=0.3, random_state=49)\n",
        "Nb=MultinomialNB()\n",
        "#fitting the svm for bag of words\n",
        "Nb_bow=Nb.fit(x_train,y_train)\n",
        "nb_predict=Nb.predict(x_test)\n",
        "nb_score=accuracy_score(y_test,nb_predict)\n",
        "print(\"nb_score :\",nb_score)\n",
        "print(\"--Accuracy-->\", accuracy_score(y_test,nb_predict))\n",
        "print(\"--ConfuMat-->\\n\",\"\\n\",confusion_matrix(y_test,nb_predict))\n",
        "print(\"\\n--ClassRep-->\\n\",\"\\n\", classification_report(y_test,nb_predict))\n"
      ],
      "metadata": {
        "colab": {
          "base_uri": "https://localhost:8080/"
        },
        "id": "jJHr5YVcLkYj",
        "outputId": "ae88cbd8-f1b3-42cf-d430-beca0ff4c60d"
      },
      "execution_count": 47,
      "outputs": [
        {
          "output_type": "stream",
          "name": "stdout",
          "text": [
            "nb_score : 0.8302666666666667\n",
            "--Accuracy--> 0.8302666666666667\n",
            "--ConfuMat-->\n",
            " \n",
            " [[6123 1315]\n",
            " [1231 6331]]\n",
            "\n",
            "--ClassRep-->\n",
            " \n",
            "               precision    recall  f1-score   support\n",
            "\n",
            "    negative       0.83      0.82      0.83      7438\n",
            "    positive       0.83      0.84      0.83      7562\n",
            "\n",
            "    accuracy                           0.83     15000\n",
            "   macro avg       0.83      0.83      0.83     15000\n",
            "weighted avg       0.83      0.83      0.83     15000\n",
            "\n"
          ]
        }
      ]
    },
    {
      "cell_type": "code",
      "source": [
        "x_train, x_test, y_train, y_test=train_test_split(x, y, test_size=0.3, random_state=89)\n",
        "Nb=MultinomialNB()\n",
        "#fitting the svm for bag of words\n",
        "Nb_bow=Nb.fit(x_train,y_train)\n",
        "nb_predict=Nb.predict(x_test)\n",
        "nb_score=accuracy_score(y_test,nb_predict)\n",
        "print(\"nb_score :\",nb_score)\n",
        "print(\"--Accuracy-->\", accuracy_score(y_test,nb_predict))\n",
        "print(\"--ConfuMat-->\\n\",\"\\n\",confusion_matrix(y_test,nb_predict))\n",
        "print(\"\\n--ClassRep-->\\n\",\"\\n\", classification_report(y_test,nb_predict))"
      ],
      "metadata": {
        "colab": {
          "base_uri": "https://localhost:8080/"
        },
        "id": "xLAw19fuL3Zg",
        "outputId": "94dbe381-dc28-4247-c46d-f5d206349c04"
      },
      "execution_count": 48,
      "outputs": [
        {
          "output_type": "stream",
          "name": "stdout",
          "text": [
            "nb_score : 0.8281333333333334\n",
            "--Accuracy--> 0.8281333333333334\n",
            "--ConfuMat-->\n",
            " \n",
            " [[6094 1322]\n",
            " [1256 6328]]\n",
            "\n",
            "--ClassRep-->\n",
            " \n",
            "               precision    recall  f1-score   support\n",
            "\n",
            "    negative       0.83      0.82      0.83      7416\n",
            "    positive       0.83      0.83      0.83      7584\n",
            "\n",
            "    accuracy                           0.83     15000\n",
            "   macro avg       0.83      0.83      0.83     15000\n",
            "weighted avg       0.83      0.83      0.83     15000\n",
            "\n"
          ]
        }
      ]
    },
    {
      "cell_type": "code",
      "source": [
        "import nltk\n",
        "nltk.download('vader_lexicon')\n",
        "from nltk.sentiment.vader import SentimentIntensityAnalyzer\n",
        "analyser = SentimentIntensityAnalyzer()\n",
        "df['score']= df['review'].apply(lambda review: analyser.polarity_scores(review))\n"
      ],
      "metadata": {
        "colab": {
          "base_uri": "https://localhost:8080/"
        },
        "id": "G-Zq_xjQwgap",
        "outputId": "7360fffa-e662-4b43-899a-7782914ea81c"
      },
      "execution_count": 49,
      "outputs": [
        {
          "output_type": "stream",
          "name": "stdout",
          "text": [
            "[nltk_data] Downloading package vader_lexicon to /root/nltk_data...\n",
            "[nltk_data]   Package vader_lexicon is already up-to-date!\n"
          ]
        }
      ]
    },
    {
      "cell_type": "code",
      "source": [
        "#df.drop_duplicates(subset =”review”, keep = “first”, inplace = True)\n",
        "df['review'] = df['review'].astype('str')\n",
        "def get_polarity(text):\n",
        "  \n",
        "  return TextBlob(text).sentiment.polarity\n",
        "df['Polarity'] = df['review'].apply(get_polarity)"
      ],
      "metadata": {
        "id": "BY3Hh49O0riY"
      },
      "execution_count": 50,
      "outputs": []
    },
    {
      "cell_type": "code",
      "source": [
        "\n",
        "df['compound'] = df['score'].apply(lambda score_dict: score_dict['compound'])\n",
        "df['sentiment_type']=''\n",
        "df.loc[df.compound>0,'sentiment_type']='POSITIVE'\n",
        "df.loc[df.compound==0,'sentiment_type']='NEUTRAL'\n",
        "df.loc[df.compound<0,'sentiment_type']='NEGATIVE'\n",
        "df.head()\n",
        "df.drop(['score'],axis=1)"
      ],
      "metadata": {
        "colab": {
          "base_uri": "https://localhost:8080/",
          "height": 408
        },
        "id": "tj_SNcjXwgzV",
        "outputId": "a903cd59-81ce-4e44-9155-f8513024e2b7"
      },
      "execution_count": 51,
      "outputs": [
        {
          "output_type": "execute_result",
          "data": {
            "text/html": [
              "\n",
              "  <div id=\"df-b7292e56-1101-40c8-91c1-699abec5546e\">\n",
              "    <div class=\"colab-df-container\">\n",
              "      <div>\n",
              "<style scoped>\n",
              "    .dataframe tbody tr th:only-of-type {\n",
              "        vertical-align: middle;\n",
              "    }\n",
              "\n",
              "    .dataframe tbody tr th {\n",
              "        vertical-align: top;\n",
              "    }\n",
              "\n",
              "    .dataframe thead th {\n",
              "        text-align: right;\n",
              "    }\n",
              "</style>\n",
              "<table border=\"1\" class=\"dataframe\">\n",
              "  <thead>\n",
              "    <tr style=\"text-align: right;\">\n",
              "      <th></th>\n",
              "      <th>review</th>\n",
              "      <th>sentiment</th>\n",
              "      <th>Polarity</th>\n",
              "      <th>compound</th>\n",
              "      <th>sentiment_type</th>\n",
              "    </tr>\n",
              "  </thead>\n",
              "  <tbody>\n",
              "    <tr>\n",
              "      <th>0</th>\n",
              "      <td>One reviewers mentioned watching 1 Oz episode ...</td>\n",
              "      <td>positive</td>\n",
              "      <td>0.025587</td>\n",
              "      <td>-0.9945</td>\n",
              "      <td>NEGATIVE</td>\n",
              "    </tr>\n",
              "    <tr>\n",
              "      <th>1</th>\n",
              "      <td>wonderful little production filming technique ...</td>\n",
              "      <td>positive</td>\n",
              "      <td>0.127604</td>\n",
              "      <td>0.9582</td>\n",
              "      <td>POSITIVE</td>\n",
              "    </tr>\n",
              "    <tr>\n",
              "      <th>2</th>\n",
              "      <td>thought wonderful way spend time hot summer we...</td>\n",
              "      <td>positive</td>\n",
              "      <td>0.264732</td>\n",
              "      <td>0.9520</td>\n",
              "      <td>POSITIVE</td>\n",
              "    </tr>\n",
              "    <tr>\n",
              "      <th>3</th>\n",
              "      <td>Basically theres family little boy Jake thinks...</td>\n",
              "      <td>negative</td>\n",
              "      <td>-0.060937</td>\n",
              "      <td>-0.9117</td>\n",
              "      <td>NEGATIVE</td>\n",
              "    </tr>\n",
              "    <tr>\n",
              "      <th>4</th>\n",
              "      <td>Petter Matteis Love Time Money visually stunni...</td>\n",
              "      <td>positive</td>\n",
              "      <td>0.239534</td>\n",
              "      <td>0.9871</td>\n",
              "      <td>POSITIVE</td>\n",
              "    </tr>\n",
              "    <tr>\n",
              "      <th>...</th>\n",
              "      <td>...</td>\n",
              "      <td>...</td>\n",
              "      <td>...</td>\n",
              "      <td>...</td>\n",
              "      <td>...</td>\n",
              "    </tr>\n",
              "    <tr>\n",
              "      <th>49995</th>\n",
              "      <td>thought movie right good job wasnt creative or...</td>\n",
              "      <td>positive</td>\n",
              "      <td>0.402591</td>\n",
              "      <td>0.9762</td>\n",
              "      <td>POSITIVE</td>\n",
              "    </tr>\n",
              "    <tr>\n",
              "      <th>49996</th>\n",
              "      <td>Bad plot bad dialogue bad acting idiotic direc...</td>\n",
              "      <td>negative</td>\n",
              "      <td>-0.322222</td>\n",
              "      <td>-0.9320</td>\n",
              "      <td>NEGATIVE</td>\n",
              "    </tr>\n",
              "    <tr>\n",
              "      <th>49997</th>\n",
              "      <td>Catholic taught parochial elementary schools n...</td>\n",
              "      <td>negative</td>\n",
              "      <td>0.056984</td>\n",
              "      <td>-0.9074</td>\n",
              "      <td>NEGATIVE</td>\n",
              "    </tr>\n",
              "    <tr>\n",
              "      <th>49998</th>\n",
              "      <td>Im going disagree previous comment side Maltin...</td>\n",
              "      <td>negative</td>\n",
              "      <td>-0.042725</td>\n",
              "      <td>-0.5267</td>\n",
              "      <td>NEGATIVE</td>\n",
              "    </tr>\n",
              "    <tr>\n",
              "      <th>49999</th>\n",
              "      <td>one expects Star Trek movies high art fans exp...</td>\n",
              "      <td>negative</td>\n",
              "      <td>0.167500</td>\n",
              "      <td>0.7765</td>\n",
              "      <td>POSITIVE</td>\n",
              "    </tr>\n",
              "  </tbody>\n",
              "</table>\n",
              "<p>50000 rows × 5 columns</p>\n",
              "</div>\n",
              "      <button class=\"colab-df-convert\" onclick=\"convertToInteractive('df-b7292e56-1101-40c8-91c1-699abec5546e')\"\n",
              "              title=\"Convert this dataframe to an interactive table.\"\n",
              "              style=\"display:none;\">\n",
              "        \n",
              "  <svg xmlns=\"http://www.w3.org/2000/svg\" height=\"24px\"viewBox=\"0 0 24 24\"\n",
              "       width=\"24px\">\n",
              "    <path d=\"M0 0h24v24H0V0z\" fill=\"none\"/>\n",
              "    <path d=\"M18.56 5.44l.94 2.06.94-2.06 2.06-.94-2.06-.94-.94-2.06-.94 2.06-2.06.94zm-11 1L8.5 8.5l.94-2.06 2.06-.94-2.06-.94L8.5 2.5l-.94 2.06-2.06.94zm10 10l.94 2.06.94-2.06 2.06-.94-2.06-.94-.94-2.06-.94 2.06-2.06.94z\"/><path d=\"M17.41 7.96l-1.37-1.37c-.4-.4-.92-.59-1.43-.59-.52 0-1.04.2-1.43.59L10.3 9.45l-7.72 7.72c-.78.78-.78 2.05 0 2.83L4 21.41c.39.39.9.59 1.41.59.51 0 1.02-.2 1.41-.59l7.78-7.78 2.81-2.81c.8-.78.8-2.07 0-2.86zM5.41 20L4 18.59l7.72-7.72 1.47 1.35L5.41 20z\"/>\n",
              "  </svg>\n",
              "      </button>\n",
              "      \n",
              "  <style>\n",
              "    .colab-df-container {\n",
              "      display:flex;\n",
              "      flex-wrap:wrap;\n",
              "      gap: 12px;\n",
              "    }\n",
              "\n",
              "    .colab-df-convert {\n",
              "      background-color: #E8F0FE;\n",
              "      border: none;\n",
              "      border-radius: 50%;\n",
              "      cursor: pointer;\n",
              "      display: none;\n",
              "      fill: #1967D2;\n",
              "      height: 32px;\n",
              "      padding: 0 0 0 0;\n",
              "      width: 32px;\n",
              "    }\n",
              "\n",
              "    .colab-df-convert:hover {\n",
              "      background-color: #E2EBFA;\n",
              "      box-shadow: 0px 1px 2px rgba(60, 64, 67, 0.3), 0px 1px 3px 1px rgba(60, 64, 67, 0.15);\n",
              "      fill: #174EA6;\n",
              "    }\n",
              "\n",
              "    [theme=dark] .colab-df-convert {\n",
              "      background-color: #3B4455;\n",
              "      fill: #D2E3FC;\n",
              "    }\n",
              "\n",
              "    [theme=dark] .colab-df-convert:hover {\n",
              "      background-color: #434B5C;\n",
              "      box-shadow: 0px 1px 3px 1px rgba(0, 0, 0, 0.15);\n",
              "      filter: drop-shadow(0px 1px 2px rgba(0, 0, 0, 0.3));\n",
              "      fill: #FFFFFF;\n",
              "    }\n",
              "  </style>\n",
              "\n",
              "      <script>\n",
              "        const buttonEl =\n",
              "          document.querySelector('#df-b7292e56-1101-40c8-91c1-699abec5546e button.colab-df-convert');\n",
              "        buttonEl.style.display =\n",
              "          google.colab.kernel.accessAllowed ? 'block' : 'none';\n",
              "\n",
              "        async function convertToInteractive(key) {\n",
              "          const element = document.querySelector('#df-b7292e56-1101-40c8-91c1-699abec5546e');\n",
              "          const dataTable =\n",
              "            await google.colab.kernel.invokeFunction('convertToInteractive',\n",
              "                                                     [key], {});\n",
              "          if (!dataTable) return;\n",
              "\n",
              "          const docLinkHtml = 'Like what you see? Visit the ' +\n",
              "            '<a target=\"_blank\" href=https://colab.research.google.com/notebooks/data_table.ipynb>data table notebook</a>'\n",
              "            + ' to learn more about interactive tables.';\n",
              "          element.innerHTML = '';\n",
              "          dataTable['output_type'] = 'display_data';\n",
              "          await google.colab.output.renderOutput(dataTable, element);\n",
              "          const docLink = document.createElement('div');\n",
              "          docLink.innerHTML = docLinkHtml;\n",
              "          element.appendChild(docLink);\n",
              "        }\n",
              "      </script>\n",
              "    </div>\n",
              "  </div>\n",
              "  "
            ],
            "text/plain": [
              "                                                  review  ... sentiment_type\n",
              "0      One reviewers mentioned watching 1 Oz episode ...  ...       NEGATIVE\n",
              "1      wonderful little production filming technique ...  ...       POSITIVE\n",
              "2      thought wonderful way spend time hot summer we...  ...       POSITIVE\n",
              "3      Basically theres family little boy Jake thinks...  ...       NEGATIVE\n",
              "4      Petter Matteis Love Time Money visually stunni...  ...       POSITIVE\n",
              "...                                                  ...  ...            ...\n",
              "49995  thought movie right good job wasnt creative or...  ...       POSITIVE\n",
              "49996  Bad plot bad dialogue bad acting idiotic direc...  ...       NEGATIVE\n",
              "49997  Catholic taught parochial elementary schools n...  ...       NEGATIVE\n",
              "49998  Im going disagree previous comment side Maltin...  ...       NEGATIVE\n",
              "49999  one expects Star Trek movies high art fans exp...  ...       POSITIVE\n",
              "\n",
              "[50000 rows x 5 columns]"
            ]
          },
          "metadata": {},
          "execution_count": 51
        }
      ]
    },
    {
      "cell_type": "code",
      "source": [
        "df.sentiment_type.value_counts().plot(kind='bar',title=\"sentiment analysis\")"
      ],
      "metadata": {
        "colab": {
          "base_uri": "https://localhost:8080/",
          "height": 337
        },
        "id": "yJZBSp-9whEd",
        "outputId": "17b50628-d531-4451-8a5b-aa6316b3eeb7"
      },
      "execution_count": null,
      "outputs": [
        {
          "output_type": "execute_result",
          "data": {
            "text/plain": [
              "<matplotlib.axes._subplots.AxesSubplot at 0x7f34454a6bd0>"
            ]
          },
          "metadata": {},
          "execution_count": 44
        },
        {
          "output_type": "display_data",
          "data": {
            "image/png": "[encoded data removed]",
            "text/plain": [
              "<Figure size 432x288 with 1 Axes>"
            ]
          },
          "metadata": {
            "needs_background": "light"
          }
        }
      ]
    }
  ]
}